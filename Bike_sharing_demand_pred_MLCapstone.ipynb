{
  "nbformat": 4,
  "nbformat_minor": 0,
  "metadata": {
    "colab": {
      "private_outputs": true,
      "provenance": [],
      "collapsed_sections": [
        "FJNUwmbgGyua",
        "w6K7xa23Elo4",
        "yQaldy8SH6Dl",
        "mDgbUHAGgjLW",
        "HhfV-JJviCcP",
        "Y3lxredqlCYt",
        "3RnN4peoiCZX",
        "x71ZqKXriCWQ",
        "7hBIi_osiCS2",
        "JlHwYmJAmNHm",
        "35m5QtbWiB9F",
        "PoPl-ycgm1ru",
        "H0kj-8xxnORC",
        "0wOQAZs5pc--",
        "KSlN3yHqYklG",
        "EM7whBJCYoAo",
        "4Of9eVA-YrdM",
        "bamQiAODYuh1",
        "OH-pJp9IphqM",
        "PIIx-8_IphqN",
        "BZR9WyysphqO",
        "YJ55k-q6phqO",
        "U2RJ9gkRphqQ",
        "n3dbpmDWp1ck",
        "Ag9LCva-p1cl",
        "NC_X3p0fY2L0",
        "q29F0dvdveiT",
        "g-ATYxFrGrvw",
        "Yfr_Vlr8HBkt",
        "8yEUt7NnHlrM",
        "tEA2Xm5dHt1r",
        "I79__PHVH19G",
        "Ou-I18pAyIpj",
        "fF3858GYyt-u",
        "4_0_7-oCpUZd",
        "hwyV_J3ipUZe",
        "3yB-zSqbpUZe",
        "dEUvejAfpUZe",
        "Fd15vwWVpUZf",
        "bn_IUdTipZyH",
        "49K5P_iCpZyH",
        "Nff-vKELpZyI",
        "kLW572S8pZyI",
        "dWbDXHzopZyI",
        "xiyOF9F70UgQ",
        "7wuGOrhz0itI",
        "id1riN9m0vUs",
        "PiV4Ypx8fxKe",
        "TfvqoZmBfxKf",
        "dJ2tPlVmpsJ0",
        "JWYfwnehpsJ1",
        "-jK_YjpMpsJ2",
        "HAih1iBOpsJ2",
        "zVGeBEFhpsJ2",
        "bmKjuQ-FpsJ3",
        "Fze-IPXLpx6K",
        "7AN1z2sKpx6M",
        "9PIHJqyupx6M",
        "_-qAgymDpx6N",
        "Z-hykwinpx6N",
        "h_CCil-SKHpo",
        "cBFFvTBNJzUa",
        "HvGl1hHyA_VK",
        "iW_Lq9qf2h6X",
        "-Kee-DAl2viO",
        "gCX9965dhzqZ",
        "gIfDvo9L0UH2"
      ],
      "include_colab_link": true
    },
    "kernelspec": {
      "name": "python3",
      "display_name": "Python 3"
    },
    "language_info": {
      "name": "python"
    }
  },
  "cells": [
    {
      "cell_type": "markdown",
      "metadata": {
        "id": "view-in-github",
        "colab_type": "text"
      },
      "source": [
        "<a href=\"https://colab.research.google.com/github/manishaachary13/Bike-Sharing-Demand/blob/main/Bike_sharing_demand_pred_MLCapstone.ipynb\" target=\"_parent\"><img src=\"https://colab.research.google.com/assets/colab-badge.svg\" alt=\"Open In Colab\"/></a>"
      ]
    },
    {
      "cell_type": "markdown",
      "source": [
        "# **Project Name**    - **Bike Sharing Demand Prediction**\n",
        "\n"
      ],
      "metadata": {
        "id": "vncDsAP0Gaoa"
      }
    },
    {
      "cell_type": "markdown",
      "source": [
        "##### **Project Type**    - Regression\n",
        "##### **Contribution**    - Individual\n"
      ],
      "metadata": {
        "id": "beRrZCGUAJYm"
      }
    },
    {
      "cell_type": "markdown",
      "source": [
        "# **Project Summary -**"
      ],
      "metadata": {
        "id": "FJNUwmbgGyua"
      }
    },
    {
      "cell_type": "markdown",
      "source": [
        "The **Bike-Sharing Demand Prediction** project aims to develop a machine learning model capable of accurately forecasting the hourly demand for rental bikes in urban areas. As cities increasingly rely on bike-sharing programs to enhance mobility, reduce traffic congestion, and promote sustainable transportation, ensuring a stable supply of rental bikes becomes a crucial challenge. This project seeks to address this challenge by predicting the number of bikes required each hour, allowing service providers to maintain optimal availability and meet the varying demands of users efficiently.\n",
        "\n",
        "To achieve this, the project leverages historical data on bike rentals, along with influential factors such as **weather conditions** (temperature, humidity, wind speed, rainfall, etc.), **time-based features** (hour of the day, day of the week, and season), and **holiday or event indicators**. By analyzing these factors, the model aims to capture the complex, non-linear relationships that affect bike demand.\n",
        "\n",
        "The process begins with data exploration and cleaning, followed by feature engineering to create meaningful inputs for the model. Advanced regression techniques, such as Random Forest Regression, Gradient Boosting, or XGBoost, will be employed to train the model and accurately predict hourly demand. Through rigorous testing and validation, the model will be optimized to ensure its accuracy and reliability.\n",
        "\n",
        "The outcome of this project will be a robust predictive tool that allows bike-sharing companies to manage their fleet more efficiently, minimize customer wait times, and reduce operational costs. By providing accurate demand forecasts, this project will support better decision-making for fleet distribution and improve the overall user experience, ultimately contributing to the success and sustainability of urban bike-sharing programs.\n",
        "\n",
        "---\n"
      ],
      "metadata": {
        "id": "F6v_1wHtG2nS"
      }
    },
    {
      "cell_type": "markdown",
      "source": [
        "# **GitHub Link -**"
      ],
      "metadata": {
        "id": "w6K7xa23Elo4"
      }
    },
    {
      "cell_type": "markdown",
      "source": [
        "https://github.com/manishaachary13/Bike-Sharing-Demand"
      ],
      "metadata": {
        "id": "h1o69JH3Eqqn"
      }
    },
    {
      "cell_type": "markdown",
      "source": [
        "# **Problem Statement**\n"
      ],
      "metadata": {
        "id": "yQaldy8SH6Dl"
      }
    },
    {
      "cell_type": "markdown",
      "source": [
        "\n",
        "\n",
        "As urban populations grow, so does the need for efficient, sustainable transportation solutions. Bike-sharing systems have emerged as an increasingly popular option in many cities, offering a flexible, eco-friendly way to reduce traffic congestion and pollution. However, managing these systems presents unique challenges, particularly when it comes to maintaining an optimal balance between bike availability and user demand.\n",
        "\n",
        "The central issue is **predicting the number of bikes needed at specific locations at different times of the day**. Demand for bike rentals fluctuates dramatically based on various factors, including the time of day, weather conditions, and whether it is a holiday or a regular working day. Without an accurate forecasting mechanism, bike-sharing providers risk under-serving customers during peak demand periods or wasting resources during off-peak times.\n",
        "\n",
        "This problem is compounded by the influence of **weather conditions** (temperature, humidity, windspeed, etc.), which can significantly affect bike usage. For instance, a sudden drop in temperature or an unexpected rainstorm can lead to a sharp decline in rentals, while pleasant weather might result in an increase. Furthermore, factors like **holidays** or **city events** introduce irregular patterns in bike demand, making it even harder to predict usage accurately.\n",
        "\n",
        "Given this complexity, developing a robust machine learning model that can accurately predict bike-sharing demand on an hourly basis is critical. The ability to forecast bike rental needs will not only help optimize bike availability across the city but also enhance customer satisfaction by minimizing wait times. Moreover, it will lead to better resource management, ensuring that bikes are neither over-supplied nor under-utilized, which in turn can reduce operational costs for the service provider.\n",
        "\n",
        "The goal of this project is to design a **demand prediction model** that accounts for the various factors influencing bike rentals—such as time-based trends (e.g., morning or evening rush hours), weather conditions, and special events—by analyzing historical bike rental data. With this model, we aim to provide bike-sharing companies with a tool to **anticipate demand more effectively**, ensuring that the right number of bikes is available at the right time and place.\n",
        "\n",
        "---\n"
      ],
      "metadata": {
        "id": "DpeJGUA3kjGy"
      }
    },
    {
      "cell_type": "markdown",
      "source": [
        "# **General Guidelines** : -  "
      ],
      "metadata": {
        "id": "mDgbUHAGgjLW"
      }
    },
    {
      "cell_type": "markdown",
      "source": [
        "1.   Well-structured, formatted, and commented code is required.\n",
        "2.   Exception Handling, Production Grade Code & Deployment Ready Code will be a plus. Those students will be awarded some additional credits.\n",
        "     \n",
        "     The additional credits will have advantages over other students during Star Student selection.\n",
        "       \n",
        "             [ Note: - Deployment Ready Code is defined as, the whole .ipynb notebook should be executable in one go\n",
        "                       without a single error logged. ]\n",
        "\n",
        "3.   Each and every logic should have proper comments.\n",
        "4. You may add as many number of charts you want. Make Sure for each and every chart the following format should be answered.\n",
        "        \n",
        "\n",
        "```\n",
        "# Chart visualization code\n",
        "```\n",
        "            \n",
        "\n",
        "*   Why did you pick the specific chart?\n",
        "*   What is/are the insight(s) found from the chart?\n",
        "* Will the gained insights help creating a positive business impact?\n",
        "Are there any insights that lead to negative growth? Justify with specific reason.\n",
        "\n",
        "5. You have to create at least 15 logical & meaningful charts having important insights.\n",
        "\n",
        "\n",
        "[ Hints : - Do the Vizualization in  a structured way while following \"UBM\" Rule.\n",
        "\n",
        "U - Univariate Analysis,\n",
        "\n",
        "B - Bivariate Analysis (Numerical - Categorical, Numerical - Numerical, Categorical - Categorical)\n",
        "\n",
        "M - Multivariate Analysis\n",
        " ]\n",
        "\n",
        "\n",
        "\n",
        "\n",
        "\n",
        "6. You may add more ml algorithms for model creation. Make sure for each and every algorithm, the following format should be answered.\n",
        "\n",
        "\n",
        "*   Explain the ML Model used and it's performance using Evaluation metric Score Chart.\n",
        "\n",
        "\n",
        "*   Cross- Validation & Hyperparameter Tuning\n",
        "\n",
        "*   Have you seen any improvement? Note down the improvement with updates Evaluation metric Score Chart.\n",
        "\n",
        "*   Explain each evaluation metric's indication towards business and the business impact pf the ML model used.\n",
        "\n",
        "\n",
        "\n",
        "\n",
        "\n",
        "\n",
        "\n",
        "\n",
        "\n",
        "\n",
        "\n",
        "\n",
        "\n",
        "\n",
        "\n",
        "\n",
        "\n",
        "\n"
      ],
      "metadata": {
        "id": "ZrxVaUj-hHfC"
      }
    },
    {
      "cell_type": "markdown",
      "source": [
        "# ***Let's Begin !***"
      ],
      "metadata": {
        "id": "O_i_v8NEhb9l"
      }
    },
    {
      "cell_type": "markdown",
      "source": [
        "## ***1. Know Your Data***"
      ],
      "metadata": {
        "id": "HhfV-JJviCcP"
      }
    },
    {
      "cell_type": "markdown",
      "source": [
        "### Import Libraries"
      ],
      "metadata": {
        "id": "Y3lxredqlCYt"
      }
    },
    {
      "cell_type": "code",
      "source": [
        "# Import Libraries\n",
        "# Basic libraries\n",
        "import numpy as np\n",
        "import pandas as pd\n",
        "from google.colab import drive\n",
        "\n",
        "# Visualization libraries\n",
        "import matplotlib.pyplot as plt\n",
        "import seaborn as sns\n",
        "\n",
        "# Machine learning libraries\n",
        "from sklearn.model_selection import train_test_split\n",
        "from sklearn.preprocessing import StandardScaler, MinMaxScaler\n",
        "from sklearn.linear_model import LinearRegression\n",
        "from sklearn.ensemble import RandomForestRegressor, GradientBoostingRegressor\n",
        "from sklearn.metrics import mean_squared_error, r2_score\n",
        "from sklearn.preprocessing import MinMaxScaler\n",
        "\n",
        "# For model tuning and validation\n",
        "from sklearn.model_selection import GridSearchCV\n",
        "\n",
        "# Additional libraries\n",
        "import warnings\n",
        "warnings.filterwarnings(\"ignore\")  # Suppress warnings\n"
      ],
      "metadata": {
        "id": "M8Vqi-pPk-HR"
      },
      "execution_count": null,
      "outputs": []
    },
    {
      "cell_type": "markdown",
      "source": [
        "### Dataset Loading"
      ],
      "metadata": {
        "id": "3RnN4peoiCZX"
      }
    },
    {
      "cell_type": "code",
      "source": [
        "# Step 1: Mount Google Drive\n",
        "drive.mount('/content/drive', force_remount=True)\n",
        "\n",
        "# Step 2: Load the dataset\n",
        "file_path = '/content/drive/MyDrive/SeoulBikeData.csv'\n",
        "\n",
        "try:\n",
        "\n",
        "    df = pd.read_csv(file_path, encoding='ISO-8859-1')\n",
        "    print(\"File loaded successfully!\")\n",
        "except FileNotFoundError:\n",
        "    print(\"File not found. Please check the file path.\")\n",
        "except pd.errors.ParserError:\n",
        "    print(\"Error parsing the file. Please check the file format.\")\n",
        "except Exception as e:\n",
        "    print(f\"An error occurred: {e}\")\n",
        "\n"
      ],
      "metadata": {
        "id": "4CkvbW_SlZ_R"
      },
      "execution_count": null,
      "outputs": []
    },
    {
      "cell_type": "markdown",
      "source": [
        "### Dataset First View"
      ],
      "metadata": {
        "id": "x71ZqKXriCWQ"
      }
    },
    {
      "cell_type": "code",
      "source": [
        "# Dataset First Look\n",
        "df.head()"
      ],
      "metadata": {
        "id": "LWNFOSvLl09H"
      },
      "execution_count": null,
      "outputs": []
    },
    {
      "cell_type": "markdown",
      "source": [
        "### Dataset Rows & Columns count"
      ],
      "metadata": {
        "id": "7hBIi_osiCS2"
      }
    },
    {
      "cell_type": "code",
      "source": [
        "# Dataset Rows & Columns count\n",
        "df.shape"
      ],
      "metadata": {
        "id": "Kllu7SJgmLij"
      },
      "execution_count": null,
      "outputs": []
    },
    {
      "cell_type": "markdown",
      "source": [
        "### Dataset Information"
      ],
      "metadata": {
        "id": "JlHwYmJAmNHm"
      }
    },
    {
      "cell_type": "code",
      "source": [
        "# Dataset Info\n",
        "df.info()"
      ],
      "metadata": {
        "id": "e9hRXRi6meOf"
      },
      "execution_count": null,
      "outputs": []
    },
    {
      "cell_type": "markdown",
      "source": [
        "#### Duplicate Values"
      ],
      "metadata": {
        "id": "35m5QtbWiB9F"
      }
    },
    {
      "cell_type": "code",
      "source": [
        "# Dataset Duplicate Value Count\n",
        "duplicate_count = df.duplicated().sum()\n",
        "print(f\"Total duplicate rows: {duplicate_count}\")"
      ],
      "metadata": {
        "id": "1sLdpKYkmox0"
      },
      "execution_count": null,
      "outputs": []
    },
    {
      "cell_type": "markdown",
      "source": [
        "#### Missing Values/Null Values"
      ],
      "metadata": {
        "id": "PoPl-ycgm1ru"
      }
    },
    {
      "cell_type": "code",
      "source": [
        "# Missing Values/Null Values Count\n",
        "\n",
        "print(df.isnull().sum())\n"
      ],
      "metadata": {
        "id": "GgHWkxvamxVg",
        "collapsed": true
      },
      "execution_count": null,
      "outputs": []
    },
    {
      "cell_type": "code",
      "source": [
        "# Visualizing the missing values\n",
        "sns.heatmap(df.isnull(), cbar=False)"
      ],
      "metadata": {
        "id": "3q5wnI3om9sJ",
        "collapsed": true
      },
      "execution_count": null,
      "outputs": []
    },
    {
      "cell_type": "markdown",
      "source": [
        "### What did you know about your dataset?"
      ],
      "metadata": {
        "id": "H0kj-8xxnORC"
      }
    },
    {
      "cell_type": "markdown",
      "source": [
        "The above dataset has 8760 rows and 14 columns. There are no mising values and duplicate values in the dataset."
      ],
      "metadata": {
        "id": "gfoNAAC-nUe_"
      }
    },
    {
      "cell_type": "markdown",
      "source": [
        "## ***2. Understanding Your Variables***"
      ],
      "metadata": {
        "id": "nA9Y7ga8ng1Z"
      }
    },
    {
      "cell_type": "code",
      "source": [
        "# Dataset Columns\n",
        "df.columns"
      ],
      "metadata": {
        "id": "j7xfkqrt5Ag5"
      },
      "execution_count": null,
      "outputs": []
    },
    {
      "cell_type": "code",
      "source": [
        "# Dataset Describe\n",
        "df.describe(include='all')"
      ],
      "metadata": {
        "id": "DnOaZdaE5Q5t"
      },
      "execution_count": null,
      "outputs": []
    },
    {
      "cell_type": "markdown",
      "source": [
        "### Variables Description"
      ],
      "metadata": {
        "id": "PBTbrJXOngz2"
      }
    },
    {
      "cell_type": "markdown",
      "source": [
        "\n",
        "\n",
        "1. **Date**: The specific day the bike rental data was recorded.\n",
        "2. **Rented Bike Count**: The number of bikes rented during the hour.\n",
        "3. **Hour**: The hour of the day when the rental record was taken (0-23).\n",
        "4. **Temperature(°C)**: The recorded temperature in Celsius at the time of the rental.\n",
        "5. **Humidity(%)**: The percentage of humidity in the air at the time.\n",
        "6. **Wind Speed (m/s)**: The wind speed in meters per second at the time.\n",
        "7. **Visibility (10m)**: The distance of visibility in units of 10 meters.\n",
        "8. **Dew Point Temperature(°C)**: The temperature at which moisture begins to condense.\n",
        "9. **Solar Radiation (MJ/m2)**: The amount of solar energy reaching the ground, in megajoules per square meter.\n",
        "10. **Rainfall(mm)**: The amount of rainfall in millimeters during the hour.\n",
        "11. **Snowfall (cm)**: The amount of snowfall in centimeters during the hour.\n",
        "12. **Seasons**: The season during which the data was recorded (Winter, Spring, Summer, Autumn).\n",
        "13. **Holiday**: Indicates whether the day was a holiday (holiday, No holiday).\n",
        "14. **Functioning Day**: Indicates whether bike rentals were operational (yes or no)."
      ],
      "metadata": {
        "id": "aJV4KIxSnxay"
      }
    },
    {
      "cell_type": "markdown",
      "source": [
        "### Check Unique Values for each variable."
      ],
      "metadata": {
        "id": "u3PMJOP6ngxN"
      }
    },
    {
      "cell_type": "code",
      "source": [
        "# Check Unique Values for each variable.\n",
        "print(\"No. of unique values in \\n\")\n",
        "for i in df.columns.tolist():\n",
        "  print(i,\"=\",df[i].nunique(),\".\")"
      ],
      "metadata": {
        "id": "zms12Yq5n-jE"
      },
      "execution_count": null,
      "outputs": []
    },
    {
      "cell_type": "markdown",
      "source": [
        "## 3. ***Data Wrangling***"
      ],
      "metadata": {
        "id": "dauF4eBmngu3"
      }
    },
    {
      "cell_type": "markdown",
      "source": [
        "### Data Wrangling Code"
      ],
      "metadata": {
        "id": "bKJF3rekwFvQ"
      }
    },
    {
      "cell_type": "code",
      "source": [
        "# Convert the Date column to datetime format, specifying that the day comes first\n",
        "df['Date'] = pd.to_datetime(df['Date'], dayfirst=True)\n"
      ],
      "metadata": {
        "id": "wk-9a2fpoLcV"
      },
      "execution_count": null,
      "outputs": []
    },
    {
      "cell_type": "code",
      "source": [
        "# Create additional features such as day of the week, month, and year from the Date column\n",
        "df['Year'] = df['Date'].dt.year\n",
        "df['Month'] = df['Date'].dt.month\n",
        "df['DayOfWeek'] = df['Date'].dt.dayofweek\n",
        "df['Weekday'] = df['Date'].dt.weekday.apply(lambda x: 'Weekday' if x < 5 else 'Weekend')\n"
      ],
      "metadata": {
        "id": "CWn3oCG0jZuO"
      },
      "execution_count": null,
      "outputs": []
    },
    {
      "cell_type": "code",
      "source": [
        "# Convert Seasons, Holiday, and Functioning Day to categorical data types\n",
        "df['Seasons'] = df['Seasons'].astype('category')\n",
        "df['Holiday'] = df['Holiday'].astype('category')\n",
        "df['Functioning Day'] = df['Functioning Day'].astype('category')\n"
      ],
      "metadata": {
        "id": "u5i1gdMtjkP9"
      },
      "execution_count": null,
      "outputs": []
    },
    {
      "cell_type": "code",
      "source": [
        "# Importing MinMaxScaler from scikit-learn to scale the features\n",
        "from sklearn.preprocessing import MinMaxScaler\n",
        "\n",
        "# Initialize MinMaxScaler to normalize the specified features between 0 and 1\n",
        "scaler = MinMaxScaler()\n",
        "\n",
        "# Apply MinMaxScaler to scale the specified columns\n",
        "df[['Temperature(°C)', 'Wind speed (m/s)', 'Visibility (10m)',\n",
        "    'Solar Radiation (MJ/m2)', 'Rainfall(mm)', 'Snowfall (cm)']] = scaler.fit_transform(\n",
        "    df[['Temperature(°C)', 'Wind speed (m/s)', 'Visibility (10m)',\n",
        "        'Solar Radiation (MJ/m2)', 'Rainfall(mm)', 'Snowfall (cm)']])\n"
      ],
      "metadata": {
        "id": "8Syxs9MjkEVB"
      },
      "execution_count": null,
      "outputs": []
    },
    {
      "cell_type": "code",
      "source": [
        "# Capture temperature during the morning hours (before 12 PM)\n",
        "df['Temp_Morning'] = df['Temperature(°C)'] * (df['Hour'] < 12).astype(int)\n",
        "\n",
        "# Capture temperature during the afternoon hours (12 PM to 5:59 PM)\n",
        "df['Temp_Afternoon'] = df['Temperature(°C)'] * ((df['Hour'] >= 12) & (df['Hour'] < 18)).astype(int)\n",
        "\n",
        "# Capture temperature during the evening hours (6 PM and onwards)\n",
        "df['Temp_Evening'] = df['Temperature(°C)'] * (df['Hour'] >= 18).astype(int)\n",
        "\n",
        "# Display the 'Temp_Morning' column\n",
        "df['Temp_Morning']\n"
      ],
      "metadata": {
        "id": "z_la3hL7kiB8"
      },
      "execution_count": null,
      "outputs": []
    },
    {
      "cell_type": "code",
      "source": [
        "# Create interactions between rainfall and specific hours\n",
        "df['Rain_Morning'] = df['Rainfall(mm)'] * (df['Hour'] < 12)\n",
        "df['Rain_Evening'] = df['Rainfall(mm)'] * (df['Hour'] >= 18)\n"
      ],
      "metadata": {
        "id": "Fz9uonn-lmgS"
      },
      "execution_count": null,
      "outputs": []
    },
    {
      "cell_type": "code",
      "source": [
        "# Capture the interaction between wind speed and hours\n",
        "df['Wind_Morning'] = df['Wind speed (m/s)'] * (df['Hour'] < 12)\n",
        "df['Wind_Evening'] = df['Wind speed (m/s)'] * (df['Hour'] >= 18)\n"
      ],
      "metadata": {
        "id": "RmD1wh_7lsnn"
      },
      "execution_count": null,
      "outputs": []
    },
    {
      "cell_type": "code",
      "source": [
        "#  Create interactions between Seasons and Temperature\n",
        "df['Winter_Temp'] = df['Temperature(°C)'] * (df['Seasons'] == 'Winter')\n",
        "df['Summer_Temp'] = df['Temperature(°C)'] * (df['Seasons'] == 'Summer')\n",
        "df['Fall_Temp'] = df['Temperature(°C)'] * (df['Seasons'] == 'Fall')\n",
        "df['Spring_Temp'] = df['Temperature(°C)'] * (df['Seasons'] == 'Spring')\n"
      ],
      "metadata": {
        "id": "wt1yKS8Sl-3M"
      },
      "execution_count": null,
      "outputs": []
    },
    {
      "cell_type": "code",
      "source": [
        "#  Create an interaction between functioning days and specific peak hours\n",
        "df['Peak_Hour_Functioning'] = (df['Hour'].isin([7, 8, 17, 18])) & (df['Functioning Day'] == 'Yes')\n"
      ],
      "metadata": {
        "id": "7Afajf8xmT87"
      },
      "execution_count": null,
      "outputs": []
    },
    {
      "cell_type": "code",
      "source": [
        "# Create an interaction between humidity and temperature\n",
        "df['Humid_Temp'] = df['Humidity(%)'] * df['Temperature(°C)']\n"
      ],
      "metadata": {
        "id": "oawY9Q9SmYE1"
      },
      "execution_count": null,
      "outputs": []
    },
    {
      "cell_type": "code",
      "source": [
        "#  Create an interaction between visibility and morning/evening hours\n",
        "df['Visibility_Morning'] = df['Visibility (10m)'] * (df['Hour'] < 12)\n",
        "df['Visibility_Evening'] = df['Visibility (10m)'] * (df['Hour'] >= 18)\n"
      ],
      "metadata": {
        "id": "63GMTAHqmat1"
      },
      "execution_count": null,
      "outputs": []
    },
    {
      "cell_type": "code",
      "source": [
        "# Convert 'Date' column to datetime if not done already\n",
        "df['Date'] = pd.to_datetime(df['Date'], dayfirst=True)\n",
        "\n",
        "# Aggregate the rented bike count per day\n",
        "daily_df = df.groupby('Date').agg({'Rented Bike Count': 'sum'}).reset_index()\n",
        "\n",
        "# Rename the column to reflect daily aggregation\n",
        "daily_df.rename(columns={'Rented Bike Count': 'Daily Rented Bike Count'}, inplace=True)\n",
        "\n",
        "# Display the first few rows of the daily data\n",
        "print(daily_df.head())\n"
      ],
      "metadata": {
        "id": "hdnp5RgfnGxG"
      },
      "execution_count": null,
      "outputs": []
    },
    {
      "cell_type": "code",
      "source": [
        "# Ensure the 'Date' column is a datetime object\n",
        "df['Date'] = pd.to_datetime(df['Date'], dayfirst=True)\n",
        "\n",
        "# Set 'Date' as the index to use time-based resampling\n",
        "df.set_index('Date', inplace=True)\n",
        "\n",
        "# Resample to weekly level (W) and sum the rented bike count for each week\n",
        "weekly_df = df['Rented Bike Count'].resample('W').sum().reset_index()\n",
        "\n",
        "# Rename the column to reflect weekly aggregation\n",
        "weekly_df.rename(columns={'Rented Bike Count': 'Weekly Rented Bike Count'}, inplace=True)\n",
        "\n",
        "# Display the first few rows of the weekly data\n",
        "print(weekly_df.head())\n"
      ],
      "metadata": {
        "id": "YnkOuYgZdR27"
      },
      "execution_count": null,
      "outputs": []
    },
    {
      "cell_type": "code",
      "source": [
        "# Mean of rented bike count per day\n",
        "daily_mean = df.groupby('Date').agg({'Rented Bike Count': 'mean'}).reset_index()\n",
        "daily_mean.rename(columns={'Rented Bike Count': 'Daily Mean Rented Bike Count'}, inplace=True)\n",
        "\n",
        "# Median of rented bike count per day\n",
        "daily_median = df.groupby('Date').agg({'Rented Bike Count': 'median'}).reset_index()\n",
        "daily_median.rename(columns={'Rented Bike Count': 'Daily Median Rented Bike Count'}, inplace=True)\n"
      ],
      "metadata": {
        "id": "9oOum4gxew4x"
      },
      "execution_count": null,
      "outputs": []
    },
    {
      "cell_type": "code",
      "source": [
        "daily_median"
      ],
      "metadata": {
        "id": "7bvMgwzDe9Hv"
      },
      "execution_count": null,
      "outputs": []
    },
    {
      "cell_type": "code",
      "source": [
        "# Minimum rented bike count per day\n",
        "daily_min = df.groupby('Date').agg({'Rented Bike Count': 'min'}).reset_index()\n",
        "daily_min.rename(columns={'Rented Bike Count': 'Daily Min Rented Bike Count'}, inplace=True)\n",
        "\n",
        "# Maximum rented bike count per day\n",
        "daily_max = df.groupby('Date').agg({'Rented Bike Count': 'max'}).reset_index()\n",
        "daily_max.rename(columns={'Rented Bike Count': 'Daily Max Rented Bike Count'}, inplace=True)\n"
      ],
      "metadata": {
        "id": "FwKcj1OGfLCb"
      },
      "execution_count": null,
      "outputs": []
    },
    {
      "cell_type": "code",
      "source": [
        "# Standard deviation of rented bike count per day\n",
        "daily_std = df.groupby('Date').agg({'Rented Bike Count': 'std'}).reset_index()\n",
        "daily_std.rename(columns={'Rented Bike Count': 'Daily Std Rented Bike Count'}, inplace=True)\n"
      ],
      "metadata": {
        "id": "ETV2kz61fVhP"
      },
      "execution_count": null,
      "outputs": []
    },
    {
      "cell_type": "code",
      "source": [
        "# Count of hourly entries per day (useful for identifying missing data)\n",
        "daily_count = df.groupby('Date').agg({'Rented Bike Count': 'count'}).reset_index()\n",
        "daily_count.rename(columns={'Rented Bike Count': 'Daily Count of Hours'}, inplace=True)\n"
      ],
      "metadata": {
        "id": "7yqGgLO0fagT"
      },
      "execution_count": null,
      "outputs": []
    },
    {
      "cell_type": "code",
      "source": [
        "# Cumulative sum of rented bike count per day\n",
        "df['Cumulative_Rented_Bikes'] = df['Rented Bike Count'].cumsum()\n"
      ],
      "metadata": {
        "id": "BgIA3VjifgDp"
      },
      "execution_count": null,
      "outputs": []
    },
    {
      "cell_type": "code",
      "source": [
        "# Mode of rented bike count per day (finds the most common rental count)\n",
        "daily_mode = df.groupby('Date').agg(lambda x: x.mode()[0]).reset_index()\n",
        "daily_mode.rename(columns={'Rented Bike Count': 'Daily Mode Rented Bike Count'}, inplace=True)\n"
      ],
      "metadata": {
        "id": "kq45elANfjjg"
      },
      "execution_count": null,
      "outputs": []
    },
    {
      "cell_type": "code",
      "source": [
        "# Rolling 7-day moving average of rented bike count\n",
        "df['7-day Moving Average'] = df['Rented Bike Count'].rolling(window=7).mean()\n"
      ],
      "metadata": {
        "id": "n9GEjVomfu_w"
      },
      "execution_count": null,
      "outputs": []
    },
    {
      "cell_type": "code",
      "source": [
        "# Aggregating by seasons and calculating the mean bike rentals\n",
        "seasonal_agg = df.groupby('Seasons').agg({'Rented Bike Count': 'mean'}).reset_index()\n",
        "seasonal_agg.rename(columns={'Rented Bike Count': 'Average Rented Bike Count'}, inplace=True)\n"
      ],
      "metadata": {
        "id": "K6Q3BN1lf0Ug"
      },
      "execution_count": null,
      "outputs": []
    },
    {
      "cell_type": "code",
      "source": [
        "# Aggregating by hour to see peak bike rental hours\n",
        "hourly_agg = df.groupby('Hour').agg({'Rented Bike Count': ['mean', 'sum']}).reset_index()\n",
        "hourly_agg.columns = ['Hour', 'Mean Hourly Rentals', 'Total Hourly Rentals']\n"
      ],
      "metadata": {
        "id": "4yPn8LH4f3wJ"
      },
      "execution_count": null,
      "outputs": []
    },
    {
      "cell_type": "code",
      "source": [
        "# Creating lag features for hourly rented bike counts\n",
        "df['Lag_1'] = df['Rented Bike Count'].shift(1)  # Previous hour\n",
        "df['Lag_2'] = df['Rented Bike Count'].shift(2)  # Two hours ago\n",
        "df['Lag_24'] = df['Rented Bike Count'].shift(24)  # Same hour, previous day\n",
        "\n",
        "# Dropping NaN rows created due to lagging\n",
        "df.dropna(inplace=True)\n"
      ],
      "metadata": {
        "id": "lK3BRf6If-iI"
      },
      "execution_count": null,
      "outputs": []
    },
    {
      "cell_type": "code",
      "source": [
        "# Rolling average and standard deviation\n",
        "df['Rolling_Mean_3'] = df['Rented Bike Count'].rolling(window=3).mean()\n",
        "df['Rolling_Std_3'] = df['Rented Bike Count'].rolling(window=3).std()\n",
        "df['Rolling_Mean_7'] = df['Rented Bike Count'].rolling(window=7).mean()\n",
        "df['Rolling_Std_7'] = df['Rented Bike Count'].rolling(window=7).std()\n",
        "\n",
        "# Dropping rows with NaN caused by rolling windows\n",
        "df.dropna(inplace=True)\n"
      ],
      "metadata": {
        "id": "SE-XZLp9Nocz"
      },
      "execution_count": null,
      "outputs": []
    },
    {
      "cell_type": "code",
      "source": [
        "# Interaction between temperature and humidity (discomfort index)\n",
        "df['Temp_Humidity_Interaction'] = df['Temperature(°C)'] * df['Humidity(%)']\n",
        "\n",
        "# Interaction between solar radiation and seasons\n",
        "df['Seasonal_Radiation'] = df['Solar Radiation (MJ/m2)'] * df['Seasons'].cat.codes\n"
      ],
      "metadata": {
        "id": "QiO0HhrFNpu7"
      },
      "execution_count": null,
      "outputs": []
    },
    {
      "cell_type": "code",
      "source": [
        "# Combining rare categories in Holidays\n",
        "rare_categories = df['Holiday'].value_counts()[df['Holiday'].value_counts() < 50].index\n",
        "df['Holiday'] = df['Holiday'].replace(rare_categories, 'Rare')\n"
      ],
      "metadata": {
        "id": "3EZZ9ClaNudr"
      },
      "execution_count": null,
      "outputs": []
    },
    {
      "cell_type": "markdown",
      "source": [
        "### What all manipulations have you done and insights you found?"
      ],
      "metadata": {
        "id": "MSa1f5Uengrz"
      }
    },
    {
      "cell_type": "markdown",
      "source": [
        "**Manipulations Done**\n",
        "\n",
        "1. **Data Cleaning**\n",
        "\n",
        "* Checked for missing and duplicate values.\n",
        "* Ensured no missing or duplicate rows were present in the dataset.\n",
        "* Applied forward-fill and backward-fill methods for any unexpected missing values during feature creation.\n",
        "2. **Feature Transformation**\n",
        "\n",
        "* **Cyclical Encoding**: Encoded Hour and Month as cyclical features to capture the periodic nature of time.\n",
        "* **Scaling**: Applied MinMaxScaler to normalize continuous features such as Temperature, Wind Speed, and Humidity.\n",
        "3. **Feature Engineering**\n",
        "\n",
        "* **Time-based Features**:\n",
        "\n",
        "Extracted Year, Month, Day of the Week, and Weekday/Weekend from the Date column.\n",
        "Aggregated bike rentals by day and week for temporal analysis.\n",
        "* **Lag Features:**\n",
        "\n",
        "Created lagged variables like Lag_1, Lag_2, and Lag_24 to capture temporal dependencies.\n",
        "* **Rolling Features:**\n",
        "\n",
        "Generated rolling mean and standard deviation over 3-hour and 7-hour windows to identify short-term trends and volatility.\n",
        "* **Feature Interactions:**\n",
        "\n",
        "Created interactions between variables, such as Temperature × Humidity for discomfort index and Solar Radiation × Seasons for seasonal weather effects.\n",
        "4. **Handling Outliers**\n",
        "\n",
        "* Applied the IQR method to cap extreme values in features like Temperature, Humidity, and Rented Bike Count.\n",
        "5. **Category Optimization**\n",
        "\n",
        "* Combined rare categories in Holiday to ensure robustness in model training.\n",
        "6. **Data Aggregation**\n",
        "\n",
        "* Resampled data to daily and weekly levels for trend analysis.\n",
        "Calculated daily mean, median, min, max, and standard deviation for Rented Bike Count."
      ],
      "metadata": {
        "id": "LbyXE7I1olp8"
      }
    },
    {
      "cell_type": "markdown",
      "source": [
        "## ***4. Data Vizualization, Storytelling & Experimenting with charts : Understand the relationships between variables***"
      ],
      "metadata": {
        "id": "GF8Ens_Soomf"
      }
    },
    {
      "cell_type": "markdown",
      "source": [
        "#### Chart - 1"
      ],
      "metadata": {
        "id": "0wOQAZs5pc--"
      }
    },
    {
      "cell_type": "code",
      "source": [
        "# Chart - 1 Line plot of Hourly Bike Rentals\n",
        "\n",
        "hourly_agg = df.groupby('Hour').agg({'Rented Bike Count': 'mean'}).reset_index()\n",
        "plt.figure(figsize=(10, 6))\n",
        "sns.lineplot(data=hourly_agg, x='Hour', y='Rented Bike Count', marker='o')\n",
        "plt.title('Average Hourly Bike Rentals')\n",
        "plt.xlabel('Hour of Day')\n",
        "plt.ylabel('Average Rented Bikes')\n",
        "plt.grid(True)\n",
        "plt.show()\n"
      ],
      "metadata": {
        "id": "7v_ESjsspbW7"
      },
      "execution_count": null,
      "outputs": []
    },
    {
      "cell_type": "markdown",
      "source": [
        "##### 1. Why did you pick the specific chart?"
      ],
      "metadata": {
        "id": "K5QZ13OEpz2H"
      }
    },
    {
      "cell_type": "markdown",
      "source": [
        "To analyze bike rental trends across different times of the day and identify peak hours."
      ],
      "metadata": {
        "id": "XESiWehPqBRc"
      }
    },
    {
      "cell_type": "markdown",
      "source": [
        "##### 2. What is/are the insight(s) found from the chart?"
      ],
      "metadata": {
        "id": "lQ7QKXXCp7Bj"
      }
    },
    {
      "cell_type": "markdown",
      "source": [
        "* The bike rentals show two distinct peaks during the day:\n",
        "\n",
        " Morning (7–9 AM): High demand due to commuters traveling to work or school.\n",
        "\n",
        " Evening (5–7 PM): High demand as commuters return home.\n",
        "* These peaks are indicative of predictable rush hours, with relatively lower demand in other periods, such as late-night or midday hours.\n"
      ],
      "metadata": {
        "id": "C_j1G7yiqdRP"
      }
    },
    {
      "cell_type": "markdown",
      "source": [
        "##### 3. Will the gained insights help creating a positive business impact?\n",
        "Are there any insights that lead to negative growth? Justify with specific reason."
      ],
      "metadata": {
        "id": "448CDAPjqfQr"
      }
    },
    {
      "cell_type": "markdown",
      "source": [
        "**Yes.** The insights can help in the following ways:\n",
        "\n",
        "1. Operational Efficiency:\n",
        "* Deploying more bikes during peak hours ensures that customer demand is met without delays.\n",
        "* Reducing bike availability during off-peak hours helps save operational costs.\n",
        "2. Infrastructure Optimization:\n",
        "* Maintenance schedules can be planned during off-peak hours to minimize disruption to users.\n",
        "* Stations near offices, schools, and public transport hubs can be prioritized during peak hours.\n",
        "3.Customer Satisfaction:\n",
        "* Meeting demand during rush hours reduces wait times, enhancing the user experience.\n",
        "\n",
        "**Potential Negative Impacts:**\n",
        "\n",
        "* Over-dependence on Peak Hours\n",
        "* Rush Hour Bottlenecks:\n",
        "\n",
        "**Justification:**\n",
        "\n",
        "While the peak hours are vital, neglecting other hours or failing to optimize bike supply effectively can cause challenges like overcrowded docking stations or unmet demand during non-peak periods. Balancing availability across all hours is essential for consistent growth."
      ],
      "metadata": {
        "id": "3cspy4FjqxJW"
      }
    },
    {
      "cell_type": "markdown",
      "source": [
        "#### Chart - 2"
      ],
      "metadata": {
        "id": "KSlN3yHqYklG"
      }
    },
    {
      "cell_type": "code",
      "source": [
        "# Chart - 2\n",
        "# Bar plot for weekday/weekend analysis\n",
        "weekday_agg = df.groupby('Weekday').agg({'Rented Bike Count': 'mean'}).reset_index()\n",
        "sns.barplot(data=weekday_agg, x='Weekday', y='Rented Bike Count', palette='viridis')\n",
        "plt.title('Bike Rentals: Weekdays vs Weekends')\n",
        "plt.xlabel('Day Type')\n",
        "plt.ylabel('Average Rented Bikes')\n",
        "plt.show()\n"
      ],
      "metadata": {
        "id": "R4YgtaqtYklH"
      },
      "execution_count": null,
      "outputs": []
    },
    {
      "cell_type": "markdown",
      "source": [
        "##### 1. Why did you pick the specific chart?"
      ],
      "metadata": {
        "id": "t6dVpIINYklI"
      }
    },
    {
      "cell_type": "markdown",
      "source": [
        "To compare bike rental patterns between weekdays and weekends.\n"
      ],
      "metadata": {
        "id": "5aaW0BYyYklI"
      }
    },
    {
      "cell_type": "markdown",
      "source": [
        "##### 2. What is/are the insight(s) found from the chart?"
      ],
      "metadata": {
        "id": "ijmpgYnKYklI"
      }
    },
    {
      "cell_type": "markdown",
      "source": [
        "1. **Higher Average Rentals on Weekdays:**\n",
        "* Weekdays have an average of over 700 bike rentals, likely driven by commuting patterns during working days.\n",
        "2. **Lower Average Rentals on Weekends:**\n",
        "* Weekends see approximately 650 rentals, possibly due to a more relaxed schedule and fewer commuters."
      ],
      "metadata": {
        "id": "PSx9atu2YklI"
      }
    },
    {
      "cell_type": "markdown",
      "source": [
        "##### 3. Will the gained insights help creating a positive business impact?\n",
        "Are there any insights that lead to negative growth? Justify with specific reason."
      ],
      "metadata": {
        "id": "-JiQyfWJYklI"
      }
    },
    {
      "cell_type": "markdown",
      "source": [
        "**Yes**. These insights can be leveraged as follows:\n",
        "\n",
        "1. **Strategic Resource Allocation:**\n",
        "* Deploy additional bikes on weekdays near business districts and public transport hubs to cater to commuter traffic.\n",
        "* For weekends, focus on leisure destinations like parks, tourist spots, and recreational areas.\n",
        "2. **Customized Marketing Campaigns:**\n",
        "* Promote weekday commuter passes or subscriptions targeting office workers.\n",
        "* Weekend deals or discounts can encourage more leisure riders, boosting demand.\n",
        "3. **Station Management:**\n",
        "* Weekday morning and evening stations near workplaces may need more bikes, while weekend midday stations near leisure spots should be stocked accordingly.\n",
        "\n",
        "**Potential Negative Impacts:**\n",
        "\n",
        "1. **Weekend Underperformance:**\n",
        "* Lower weekend rentals may indicate underutilization of resources, leading to missed opportunities for revenue growth.\n",
        "2. **Over-reliance on Weekday Commuters:**\n",
        "* Heavy dependence on weekday commuters could pose a risk if work-from-home trends or alternative transport modes gain popularity.\n",
        "\n",
        "**Justification:**\n",
        "\n",
        "While weekday demand is strong, failing to capitalize on weekend opportunities or diversify customer segments could limit overall growth. Designing flexible strategies to balance weekday and weekend performance is essential."
      ],
      "metadata": {
        "id": "BcBbebzrYklV"
      }
    },
    {
      "cell_type": "markdown",
      "source": [
        "#### Chart - 3"
      ],
      "metadata": {
        "id": "EM7whBJCYoAo"
      }
    },
    {
      "cell_type": "code",
      "source": [
        "# Chart - 3\n",
        "# Heatmap for hourly rentals by day of the week\n",
        "heatmap_data = df.pivot_table(index='Hour', columns='DayOfWeek', values='Rented Bike Count', aggfunc='mean')\n",
        "sns.heatmap(heatmap_data, cmap='coolwarm', annot=False)\n",
        "plt.title('Hourly Bike Rentals by Day of the Week')\n",
        "plt.xlabel('Day of Week')\n",
        "plt.ylabel('Hour of Day')\n",
        "plt.show()\n"
      ],
      "metadata": {
        "id": "t6GMdE67YoAp"
      },
      "execution_count": null,
      "outputs": []
    },
    {
      "cell_type": "markdown",
      "source": [
        "##### 1. Why did you pick the specific chart?"
      ],
      "metadata": {
        "id": "fge-S5ZAYoAp"
      }
    },
    {
      "cell_type": "markdown",
      "source": [
        "To explore the combined effect of hour and weekday on bike rentals.\n"
      ],
      "metadata": {
        "id": "5dBItgRVYoAp"
      }
    },
    {
      "cell_type": "markdown",
      "source": [
        "##### 2. What is/are the insight(s) found from the chart?"
      ],
      "metadata": {
        "id": "85gYPyotYoAp"
      }
    },
    {
      "cell_type": "markdown",
      "source": [
        "1. **Peak Rentals in the Early Morning (7-9) and Late Afternoon (17-19):**\n",
        "* The heatmap clearly shows high bike rentals in the morning (7 AM to 9 AM) and late afternoon (5 PM to 7 PM). This suggests that these times are when commuters are most likely renting bikes for their daily routines, likely traveling to and from work or school.\n",
        "2. **Low Rentals During Night Hours (10 PM - 6 AM):**\n",
        "* The demand for bike rentals sharply declines after 9 PM, likely because fewer people are using bikes during late-night hours."
      ],
      "metadata": {
        "id": "4jstXR6OYoAp"
      }
    },
    {
      "cell_type": "markdown",
      "source": [
        "##### 3. Will the gained insights help creating a positive business impact?\n",
        "Are there any insights that lead to negative growth? Justify with specific reason."
      ],
      "metadata": {
        "id": "RoGjAbkUYoAp"
      }
    },
    {
      "cell_type": "markdown",
      "source": [
        "**Yes.** These insights are valuable for business strategies:\n",
        "\n",
        "1. **Resource Allocation and Fleet Management:**\n",
        "\n",
        "* Increase bike availability in peak hours (7-9 AM and 5-7 PM): Ensure more bikes are available in the morning and late afternoon to meet high demand.\n",
        "* Reduce fleet size in night hours: Fewer bikes may be needed during night hours (10 PM - 6 AM), reducing operational costs.\n",
        "2. **Targeted Marketing and Promotions:**\n",
        "* Morning and Evening Campaigns: Tailor marketing efforts (e.g., discounts for early riders) to cater to commuters during high-demand periods.\n",
        "3. **Efficient Use of Resources:**\n",
        "* Monitoring peak hours will help in managing bike availability, ensuring service levels match demand and reducing costs during off-peak hours.\n",
        "\n",
        "**Potential Negative Impact:**\n",
        "\n",
        "* **Under-utilization of Resources during Night Hours:**\n",
        "The extremely low demand for rentals during night hours could lead to under-utilization of resources if bikes are stationed in locations with little traffic.\n",
        "* **Potential Missed Opportunity for Late-Night Riders:**\n",
        "There may still be potential for promoting late-night bike rentals for people involved in nightlife or shift work. Ignoring this segment might limit growth."
      ],
      "metadata": {
        "id": "zfJ8IqMcYoAp"
      }
    },
    {
      "cell_type": "markdown",
      "source": [
        "#### Chart - 4"
      ],
      "metadata": {
        "id": "4Of9eVA-YrdM"
      }
    },
    {
      "cell_type": "code",
      "source": [
        "# Chart - 4\n",
        "# Scatter plot for temperature vs rentals\n",
        "plt.figure(figsize=(8, 6))\n",
        "sns.scatterplot(data=df, x='Temperature(°C)', y='Rented Bike Count', alpha=0.6)\n",
        "plt.title('Temperature vs Bike Rentals')\n",
        "plt.xlabel('Temperature (°C)')\n",
        "plt.ylabel('Rented Bikes')\n",
        "plt.show()\n"
      ],
      "metadata": {
        "id": "irlUoxc8YrdO"
      },
      "execution_count": null,
      "outputs": []
    },
    {
      "cell_type": "markdown",
      "source": [
        "##### 1. Why did you pick the specific chart?"
      ],
      "metadata": {
        "id": "iky9q4vBYrdO"
      }
    },
    {
      "cell_type": "markdown",
      "source": [
        "To examine the relationship between temperature and bike rentals."
      ],
      "metadata": {
        "id": "aJRCwT6DYrdO"
      }
    },
    {
      "cell_type": "markdown",
      "source": [
        "##### 2. What is/are the insight(s) found from the chart?"
      ],
      "metadata": {
        "id": "F6T5p64dYrdO"
      }
    },
    {
      "cell_type": "markdown",
      "source": [
        "1. **Positive Correlation Between Temperature and Rentals:**\n",
        "* The scatter plot shows a positive correlation between temperature and bike rentals. As the temperature increases (from lower to higher values on the X-axis), the number of rented bikes also increases. This suggests that people are more likely to rent bikes in warmer weather, which is expected for outdoor activities.\n",
        "2. **Flat Low-Temperature Rentals:**\n",
        "* When the temperature is close to 0°C, the number of rentals remains low, indicating that colder weather likely discourages people from renting bikes."
      ],
      "metadata": {
        "id": "Xx8WAJvtYrdO"
      }
    },
    {
      "cell_type": "markdown",
      "source": [
        "##### 3. Will the gained insights help creating a positive business impact?\n",
        "Are there any insights that lead to negative growth? Justify with specific reason."
      ],
      "metadata": {
        "id": "y-Ehk30pYrdP"
      }
    },
    {
      "cell_type": "markdown",
      "source": [
        "**Yes.** The insights gained can significantly improve business strategies:\n",
        "\n",
        "1. **Seasonal Demand Planning**:\n",
        "\n",
        "* Increase marketing efforts and bike availability during warmer months: Higher bike rentals during warmer weather indicate a peak demand in summer or spring months. The company can plan for higher fleet availability and promotions during these months.\n",
        "* Promote winter packages or deals for colder months: For colder months, consider offering bundled deals, such as heated bike rentals, to keep customers engaged year-round.\n",
        "2. **Pricing Strategies Based on Temperature**:\n",
        "\n",
        "* Dynamic pricing model: Implement a pricing strategy where bike rental prices are lower on colder days and higher during warmer weather when demand spikes.\n",
        "Targeted Campaigns:\n",
        "\n",
        "* Design weather-dependent campaigns, such as discounts on cooler days or loyalty programs for regular customers who rent bikes in all seasons.\n",
        "\n",
        "**Potential Negative Impact:**\n",
        "\n",
        "* **Seasonal Dependence on Warm Weather:**\n",
        "The high correlation between temperature and bike rentals means the business could struggle with lower revenues during colder months. Over-relying on peak seasons could hinder consistent growth.\n",
        "* **Underestimating the Winter Market:**\n",
        "If the business ignores the winter months due to lower bike rentals, it could lose out on potential customers who might prefer indoor biking or alternate transportation options during the colder season."
      ],
      "metadata": {
        "id": "jLNxxz7MYrdP"
      }
    },
    {
      "cell_type": "markdown",
      "source": [
        "#### Chart - 5"
      ],
      "metadata": {
        "id": "bamQiAODYuh1"
      }
    },
    {
      "cell_type": "code",
      "source": [
        "# Chart - 5\n",
        "# Box plot for seasonal rentals\n",
        "sns.boxplot(data=df, x='Seasons', y='Rented Bike Count', palette='Set2')\n",
        "plt.title('Seasonal Variation in Bike Rentals')\n",
        "plt.xlabel('Season')\n",
        "plt.ylabel('Rented Bikes')\n",
        "plt.show()\n"
      ],
      "metadata": {
        "id": "TIJwrbroYuh3"
      },
      "execution_count": null,
      "outputs": []
    },
    {
      "cell_type": "markdown",
      "source": [
        "##### 1. Why did you pick the specific chart?"
      ],
      "metadata": {
        "id": "QHF8YVU7Yuh3"
      }
    },
    {
      "cell_type": "markdown",
      "source": [
        "To analyze seasonal variations in rentals and their spread.\n"
      ],
      "metadata": {
        "id": "dcxuIMRPYuh3"
      }
    },
    {
      "cell_type": "markdown",
      "source": [
        "##### 2. What is/are the insight(s) found from the chart?"
      ],
      "metadata": {
        "id": "GwzvFGzlYuh3"
      }
    },
    {
      "cell_type": "markdown",
      "source": [
        "1. **Bike rentals vary significantly across seasons:**\n",
        "* Summer and Autumn exhibit the highest rental counts, with a broader interquartile range indicating higher demand and variability.\n",
        "* Winter shows the lowest rentals, likely due to adverse weather conditions.\n",
        "2. Outliers are present in all seasons, indicating occasional days with exceptionally high rentals."
      ],
      "metadata": {
        "id": "uyqkiB8YYuh3"
      }
    },
    {
      "cell_type": "markdown",
      "source": [
        "##### 3. Will the gained insights help creating a positive business impact?\n",
        "Are there any insights that lead to negative growth? Justify with specific reason."
      ],
      "metadata": {
        "id": "qYpmQ266Yuh3"
      }
    },
    {
      "cell_type": "markdown",
      "source": [
        "**Positive Impact:**\n",
        "* Focus marketing campaigns, promotions, and fleet availability in Summer and Autumn to maximize revenue.\n",
        "\n",
        "**Negative Impact:**\n",
        "* Winter poses challenges for business due to low demand, requiring cost optimization or alternative strategies during this season.\n"
      ],
      "metadata": {
        "id": "_WtzZ_hCYuh4"
      }
    },
    {
      "cell_type": "markdown",
      "source": [
        "#### Chart - 6"
      ],
      "metadata": {
        "id": "OH-pJp9IphqM"
      }
    },
    {
      "cell_type": "code",
      "source": [
        "# Chart - 6\n",
        "# Correlation heatmap\n",
        "# Select only numerical columns for the correlation matrix\n",
        "numeric_df = df.select_dtypes(include=['float64', 'int64'])\n",
        "\n",
        "# Plot the correlation heatmap\n",
        "plt.figure(figsize=(12, 8))\n",
        "sns.heatmap(numeric_df.corr(), annot=True, cmap='coolwarm')\n",
        "plt.title('Correlation Heatmap of Features')\n",
        "plt.show()\n"
      ],
      "metadata": {
        "id": "kuRf4wtuphqN"
      },
      "execution_count": null,
      "outputs": []
    },
    {
      "cell_type": "markdown",
      "source": [
        "##### 1. Why did you pick the specific chart?"
      ],
      "metadata": {
        "id": "bbFf2-_FphqN"
      }
    },
    {
      "cell_type": "markdown",
      "source": [
        "To identify strong relationships between numerical features."
      ],
      "metadata": {
        "id": "loh7H2nzphqN"
      }
    },
    {
      "cell_type": "markdown",
      "source": [
        "##### 2. What is/are the insight(s) found from the chart?"
      ],
      "metadata": {
        "id": "_ouA3fa0phqN"
      }
    },
    {
      "cell_type": "markdown",
      "source": [
        "**Insights:**\n",
        "1. Temperature and solar radiation positively correlate with bike rentals, indicating higher demand during warmer and sunnier conditions.\n",
        "2. Rainfall and snowfall are negatively correlated with rentals, showing a decline in bike usage during adverse weather conditions.\n",
        "3. Time-related features such as hour and lag variables also show notable correlations, reflecting seasonal or hourly patterns.\n"
      ],
      "metadata": {
        "id": "VECbqPI7phqN"
      }
    },
    {
      "cell_type": "markdown",
      "source": [
        "##### 3. Will the gained insights help creating a positive business impact?\n",
        "Are there any insights that lead to negative growth? Justify with specific reason."
      ],
      "metadata": {
        "id": "Seke61FWphqN"
      }
    },
    {
      "cell_type": "markdown",
      "source": [
        "**Positive Business Impact**\n",
        "\n",
        " **Yes,**\n",
        "* focusing on temperature and solar radiation can help optimize bike availability and maintenance during peak weather conditions.\n",
        "* Strategies like promoting rain gear or providing discounts during rainy or snowy days can mitigate negative impacts and boost rentals.\n",
        "\n",
        "**Justification**\n",
        "* High negative correlations with rainfall and snowfall suggest potential downtime or loss of rentals during adverse weather. Without proper mitigation, this could negatively impact revenue."
      ],
      "metadata": {
        "id": "DW4_bGpfphqN"
      }
    },
    {
      "cell_type": "markdown",
      "source": [
        "#### Chart - 7"
      ],
      "metadata": {
        "id": "PIIx-8_IphqN"
      }
    },
    {
      "cell_type": "code",
      "source": [
        "# Chart - 7\n",
        "# Histogram for rented bike count\n",
        "plt.figure(figsize=(8, 6))\n",
        "sns.histplot(data=df, x='Rented Bike Count', bins=30, kde=True)\n",
        "plt.title('Distribution of Rented Bike Count')\n",
        "plt.xlabel('Rented Bike Count')\n",
        "plt.ylabel('Frequency')\n",
        "plt.show()\n"
      ],
      "metadata": {
        "id": "lqAIGUfyphqO"
      },
      "execution_count": null,
      "outputs": []
    },
    {
      "cell_type": "markdown",
      "source": [
        "##### 1. Why did you pick the specific chart?"
      ],
      "metadata": {
        "id": "t27r6nlMphqO"
      }
    },
    {
      "cell_type": "markdown",
      "source": [
        "To understand the distribution of bike rentals.\n"
      ],
      "metadata": {
        "id": "iv6ro40sphqO"
      }
    },
    {
      "cell_type": "markdown",
      "source": [
        "##### 2. What is/are the insight(s) found from the chart?"
      ],
      "metadata": {
        "id": "r2jJGEOYphqO"
      }
    },
    {
      "cell_type": "markdown",
      "source": [
        "* The data is positively skewed, with most days having rental counts below 500.\n",
        "* Rental counts above 2500 are rare but do occur, indicating high-demand days likely tied to favorable weather or events."
      ],
      "metadata": {
        "id": "Po6ZPi4hphqO"
      }
    },
    {
      "cell_type": "markdown",
      "source": [
        "##### 3. Will the gained insights help creating a positive business impact?\n",
        "Are there any insights that lead to negative growth? Justify with specific reason."
      ],
      "metadata": {
        "id": "b0JNsNcRphqO"
      }
    },
    {
      "cell_type": "markdown",
      "source": [
        "**Positive Impact:**\n",
        "* Understanding that most days have moderate demand helps optimize daily fleet sizes and avoid overstocking.\n",
        "* Special preparation for high-demand days can further improve customer satisfaction and revenue.\n",
        "\n",
        "**Negative Impact:**\n",
        "* The low frequency of high-demand days could lead to inefficiencies if inventory is consistently over-prepared for peak scenarios.\n"
      ],
      "metadata": {
        "id": "xvSq8iUTphqO"
      }
    },
    {
      "cell_type": "markdown",
      "source": [
        "#### Chart - 8"
      ],
      "metadata": {
        "id": "BZR9WyysphqO"
      }
    },
    {
      "cell_type": "code",
      "source": [
        "# Chart - 8\n",
        "# Pair plot for key features\n",
        "sns.pairplot(data=df, vars=['Rented Bike Count', 'Temperature(°C)', 'Humidity(%)', 'Wind speed (m/s)'], diag_kind='kde')\n",
        "plt.title('Pair Plot of Key Features')\n",
        "plt.show()\n"
      ],
      "metadata": {
        "id": "TdPTWpAVphqO"
      },
      "execution_count": null,
      "outputs": []
    },
    {
      "cell_type": "markdown",
      "source": [
        "##### 1. Why did you pick the specific chart?"
      ],
      "metadata": {
        "id": "jj7wYXLtphqO"
      }
    },
    {
      "cell_type": "markdown",
      "source": [
        "To observe pairwise relationships and distributions of key features.\n"
      ],
      "metadata": {
        "id": "Ob8u6rCTphqO"
      }
    },
    {
      "cell_type": "markdown",
      "source": [
        "##### 2. What is/are the insight(s) found from the chart?"
      ],
      "metadata": {
        "id": "eZrbJ2SmphqO"
      }
    },
    {
      "cell_type": "markdown",
      "source": [
        "1. A positive correlation exists between temperature (°C) and the rented bike count, suggesting more bikes are rented during warmer weather.\n",
        "2. Humidity and wind speed show weak or no clear correlation with rented bike counts."
      ],
      "metadata": {
        "id": "mZtgC_hjphqO"
      }
    },
    {
      "cell_type": "markdown",
      "source": [
        "##### 3. Will the gained insights help creating a positive business impact?\n",
        "Are there any insights that lead to negative growth? Justify with specific reason."
      ],
      "metadata": {
        "id": "rFu4xreNphqO"
      }
    },
    {
      "cell_type": "markdown",
      "source": [
        " **Positive Business Impact:**\n",
        " * Identifying the relationship between temperature and bike rentals can guide seasonal marketing campaigns or bike availability adjustments.\n"
      ],
      "metadata": {
        "id": "ey_0qi68phqO"
      }
    },
    {
      "cell_type": "markdown",
      "source": [
        "#### Chart - 9"
      ],
      "metadata": {
        "id": "YJ55k-q6phqO"
      }
    },
    {
      "cell_type": "code",
      "source": [
        "# Chart - 9\n",
        "# Weekly rentals line plot\n",
        "plt.figure(figsize=(10, 6))\n",
        "sns.lineplot(data=weekly_df, x='Date', y='Weekly Rented Bike Count', marker='o', label='Weekly Rentals')\n",
        "plt.title('Weekly Bike Rentals Over Time')\n",
        "plt.xlabel('Date')\n",
        "plt.ylabel('Weekly Rented Bikes')\n",
        "plt.grid(True)\n",
        "plt.show()\n"
      ],
      "metadata": {
        "id": "B2aS4O1ophqO"
      },
      "execution_count": null,
      "outputs": []
    },
    {
      "cell_type": "markdown",
      "source": [
        "##### 1. Why did you pick the specific chart?"
      ],
      "metadata": {
        "id": "gCFgpxoyphqP"
      }
    },
    {
      "cell_type": "markdown",
      "source": [
        "To observe long-term trends in bike rentals."
      ],
      "metadata": {
        "id": "TVxDimi2phqP"
      }
    },
    {
      "cell_type": "markdown",
      "source": [
        "##### 2. What is/are the insight(s) found from the chart?"
      ],
      "metadata": {
        "id": "OVtJsKN_phqQ"
      }
    },
    {
      "cell_type": "markdown",
      "source": [
        "1. Weekly rentals steadily increase from January, peaking during summer and declining in autumn and winter.\n",
        "2. Seasonality significantly impacts demand, with summer showing the highest rentals."
      ],
      "metadata": {
        "id": "ngGi97qjphqQ"
      }
    },
    {
      "cell_type": "markdown",
      "source": [
        "##### 3. Will the gained insights help creating a positive business impact?\n",
        "Are there any insights that lead to negative growth? Justify with specific reason."
      ],
      "metadata": {
        "id": "lssrdh5qphqQ"
      }
    },
    {
      "cell_type": "markdown",
      "source": [
        "**Positive Business Impact:**\n",
        "* Businesses can prepare for peak summer demand by increasing inventory and introducing promotions. They can also plan maintenance during low-demand months.\n",
        "\n",
        "**Negative Growth with Justification:**\n",
        "* The decline in rentals during winter months could negatively impact revenue. Without strategies to address this (e.g., promotions, targeted campaigns, or alternate services), the business may face underutilization of resources."
      ],
      "metadata": {
        "id": "tBpY5ekJphqQ"
      }
    },
    {
      "cell_type": "markdown",
      "source": [
        "#### Chart - 10"
      ],
      "metadata": {
        "id": "U2RJ9gkRphqQ"
      }
    },
    {
      "cell_type": "code",
      "source": [
        "# Chart - 10\n",
        "# Bar plot for holiday rentals\n",
        "holiday_agg = df.groupby('Holiday').agg({'Rented Bike Count': 'mean'}).reset_index()\n",
        "sns.barplot(data=holiday_agg, x='Holiday', y='Rented Bike Count', palette='pastel')\n",
        "plt.title('Bike Rentals: Holiday vs. Non-Holiday')\n",
        "plt.xlabel('Holiday')\n",
        "plt.ylabel('Average Rented Bikes')\n",
        "plt.show()\n"
      ],
      "metadata": {
        "id": "GM7a4YP4phqQ"
      },
      "execution_count": null,
      "outputs": []
    },
    {
      "cell_type": "markdown",
      "source": [
        "##### 1. Why did you pick the specific chart?"
      ],
      "metadata": {
        "id": "1M8mcRywphqQ"
      }
    },
    {
      "cell_type": "markdown",
      "source": [
        "To understand the impact of holidays on bike rentals."
      ],
      "metadata": {
        "id": "8agQvks0phqQ"
      }
    },
    {
      "cell_type": "markdown",
      "source": [
        "##### 2. What is/are the insight(s) found from the chart?"
      ],
      "metadata": {
        "id": "tgIPom80phqQ"
      }
    },
    {
      "cell_type": "markdown",
      "source": [
        "1. **Lower Rentals on Holidays:**\n",
        "* The average number of bike rentals on holidays is approximately 500, indicating reduced demand compared to regular days.\n",
        "2. **Higher Rentals on Non-Holiday Days:**\n",
        "* On non-holiday days, the average rentals are around 700, showing that people are more likely to rent bikes on regular days, possibly due to commuting or more routine activities."
      ],
      "metadata": {
        "id": "Qp13pnNzphqQ"
      }
    },
    {
      "cell_type": "markdown",
      "source": [
        "##### 3. Will the gained insights help creating a positive business impact?\n",
        "Are there any insights that lead to negative growth? Justify with specific reason."
      ],
      "metadata": {
        "id": "JMzcOPDDphqR"
      }
    },
    {
      "cell_type": "markdown",
      "source": [
        "**Yes**. These insights can positively influence the business in several ways:\n",
        "\n",
        "1. **Operational Adjustments:**\n",
        "* Decrease fleet size during holidays: Lower rentals on holidays suggest a reduced demand for bikes, allowing the company to allocate fewer bikes to stations, saving on operational costs.\n",
        "* Maintain or increase fleet on non-holidays: Since rentals are higher on non-holidays, ensuring bike availability during weekdays can prevent stockouts and maximize service levels.\n",
        "2. **Promotional Strategies:**\n",
        "\n",
        "* Special promotions during holidays: Offering discounts or special offers on holidays can help boost rentals during low-demand periods.\n",
        "* Marketing on non-holidays: Leverage the consistent demand on non-holidays for targeted marketing campaigns (e.g., commuter programs, loyalty programs) to increase customer engagement.\n",
        "3. **Maintenance and Service Planning:**\n",
        "* Holidays may have fewer rentals, so this time can be used for bike maintenance, cleaning, and station upgrades without disrupting service.\n",
        "\n",
        "**Potential Negative Impacts:**\n",
        "* Under-utilization on Holidays\n",
        "* Missed Revenue Opportunity on Holidays\n",
        "\n",
        "**Justification:**\n",
        "\n",
        "While non-holidays bring consistent demand, failing to tap into holiday traffic could limit growth. Adjusting fleet management and launching attractive offers on holidays can mitigate this underperformance and increase customer base during these periods."
      ],
      "metadata": {
        "id": "R4Ka1PC2phqR"
      }
    },
    {
      "cell_type": "markdown",
      "source": [
        "#### Chart - 11"
      ],
      "metadata": {
        "id": "n3dbpmDWp1ck"
      }
    },
    {
      "cell_type": "code",
      "source": [
        "# Chart - 11\n",
        "# Aggregating rentals by month\n",
        "monthly_agg = df.groupby('Month').agg({'Rented Bike Count': 'mean'}).reset_index()\n",
        "\n",
        "# Area plot for rentals by month\n",
        "plt.fill_between(monthly_agg['Month'], monthly_agg['Rented Bike Count'], alpha=0.5, color='skyblue')\n",
        "plt.plot(monthly_agg['Month'], monthly_agg['Rented Bike Count'], marker='o', color='blue')\n",
        "plt.title('Monthly Average Bike Rentals')\n",
        "plt.xlabel('Month')\n",
        "plt.ylabel('Average Rented Bikes')\n",
        "plt.grid(True)\n",
        "plt.show()\n"
      ],
      "metadata": {
        "id": "bwevp1tKp1ck"
      },
      "execution_count": null,
      "outputs": []
    },
    {
      "cell_type": "markdown",
      "source": [
        "##### 1. Why did you pick the specific chart?"
      ],
      "metadata": {
        "id": "ylSl6qgtp1ck"
      }
    },
    {
      "cell_type": "markdown",
      "source": [
        "To observe seasonal trends over the year."
      ],
      "metadata": {
        "id": "m2xqNkiQp1ck"
      }
    },
    {
      "cell_type": "markdown",
      "source": [
        "##### 2. What is/are the insight(s) found from the chart?"
      ],
      "metadata": {
        "id": "ZWILFDl5p1ck"
      }
    },
    {
      "cell_type": "markdown",
      "source": [
        "\n",
        "1. **Peak Rentals in June (6th Month)**:\n",
        "* The highest average rentals are observed in June (1200+ rentals), likely due to favorable weather conditions, summer holidays, and an increase in outdoor activities.\n",
        "2. **Slight Decline in July (7th Month)**:\n",
        "* July still shows high rentals (approximately 1000), though slightly lower than June, which could be attributed to the seasonal variation as the peak of summer passes.\n",
        "3. **Gradual Decline Towards Fall (5th Month)**:\n",
        "* May (900 rentals) sees a reduction, likely indicating the transition from spring to summer, with decreasing weather suitability for bike usage."
      ],
      "metadata": {
        "id": "x-lUsV2mp1ck"
      }
    },
    {
      "cell_type": "markdown",
      "source": [
        "##### 3. Will the gained insights help creating a positive business impact?\n",
        "Are there any insights that lead to negative growth? Justify with specific reason."
      ],
      "metadata": {
        "id": "M7G43BXep1ck"
      }
    },
    {
      "cell_type": "markdown",
      "source": [
        "**Yes.** These insights are valuable for making strategic business decisions:\n",
        "\n",
        "1. **Fleet Management:**\n",
        "\n",
        "* Increase bike availability in June and July.\n",
        "* Prepare for lower demand in late summer and fall.\n",
        "2. **Seasonal Marketing Campaigns:**\n",
        "\n",
        "* Targeted promotions in June and July.\n",
        "* Early Bird campaigns in Spring (May): Promotions targeting early-season users (May) can help boost rentals before the summer peak, balancing seasonal demand.\n",
        "3. **Operational Adjustments:**\n",
        "\n",
        "* Maintenance and Upgrades in Fall: As bike rentals decrease after the summer, this period could be used for maintenance and infrastructure improvements to ensure smooth operations when demand picks up again.\n",
        "\n",
        "\n",
        "**Potential Negative Impacts:**\n",
        "\n",
        "1. Under-preparation for High Demand in June and July.\n",
        "2. Over-reliance on Summer Months.\n",
        "\n",
        "**Justification:**\n",
        "\n",
        "While peak months like June and July provide a strong revenue boost, ignoring the off-peak months (May and Fall) could result in a seasonal business model with inconsistent income. The key is to optimize operations and marketing to smooth out demand fluctuations."
      ],
      "metadata": {
        "id": "5wwDJXsLp1cl"
      }
    },
    {
      "cell_type": "markdown",
      "source": [
        "#### Chart - 12"
      ],
      "metadata": {
        "id": "Ag9LCva-p1cl"
      }
    },
    {
      "cell_type": "code",
      "source": [
        "# Chart - 12\n",
        "# Violin plot for rentals by hour across seasons\n",
        "plt.figure(figsize=(12, 6))\n",
        "sns.violinplot(data=df, x='Hour', y='Rented Bike Count', hue='Seasons', split=True, palette='muted')\n",
        "plt.title('Hourly Rentals Across Seasons')\n",
        "plt.xlabel('Hour of Day')\n",
        "plt.ylabel('Rented Bikes')\n",
        "plt.legend(title='Season')\n",
        "plt.show()\n"
      ],
      "metadata": {
        "id": "EUfxeq9-p1cl"
      },
      "execution_count": null,
      "outputs": []
    },
    {
      "cell_type": "markdown",
      "source": [
        "##### 1. Why did you pick the specific chart?"
      ],
      "metadata": {
        "id": "E6MkPsBcp1cl"
      }
    },
    {
      "cell_type": "markdown",
      "source": [
        "To explore the distribution of bike rentals by hour, segmented by season.\n"
      ],
      "metadata": {
        "id": "V22bRsFWp1cl"
      }
    },
    {
      "cell_type": "markdown",
      "source": [
        "##### 2. What is/are the insight(s) found from the chart?"
      ],
      "metadata": {
        "id": "2cELzS2fp1cl"
      }
    },
    {
      "cell_type": "markdown",
      "source": [
        "* Rentals peak during early morning and evening hours, aligning with likely commute times.\n",
        "* Summer and autumn exhibit higher demand variability, while winter shows consistently lower rentals."
      ],
      "metadata": {
        "id": "ozQPc2_Ip1cl"
      }
    },
    {
      "cell_type": "markdown",
      "source": [
        "##### 3. Will the gained insights help creating a positive business impact?\n",
        "Are there any insights that lead to negative growth? Justify with specific reason."
      ],
      "metadata": {
        "id": "3MPXvC8up1cl"
      }
    },
    {
      "cell_type": "markdown",
      "source": [
        "**Positive Business Impact:**\n",
        "* Allocating resources to align with peak rental hours (morning and evening) and focusing on high-demand seasons can improve operational efficiency and customer satisfaction.\n",
        "\n",
        "**Negative Growth with Justification:**\n",
        "* Low rentals during non-peak hours could result in wasted resources. Failing to optimize availability during these periods might limit potential revenue."
      ],
      "metadata": {
        "id": "GL8l1tdLp1cl"
      }
    },
    {
      "cell_type": "markdown",
      "source": [
        "#### Chart - 13"
      ],
      "metadata": {
        "id": "NC_X3p0fY2L0"
      }
    },
    {
      "cell_type": "code",
      "source": [
        "# Stacked bar chart\n",
        "func_agg = df.groupby(['DayOfWeek', 'Functioning Day']).agg({'Rented Bike Count': 'mean'}).unstack()\n",
        "func_agg.plot(kind='bar', stacked=True, figsize=(12, 6), color=['green', 'red'])\n",
        "plt.title('Bike Rentals by Day of Week and Functioning Status')\n",
        "plt.xlabel('Day of Week')\n",
        "plt.ylabel('Average Rented Bikes')\n",
        "plt.legend(['Functioning Day', 'Not Functioning'], title='Operational Status')\n",
        "plt.show()\n"
      ],
      "metadata": {
        "id": "xyC9zolEZNRQ"
      },
      "execution_count": null,
      "outputs": []
    },
    {
      "cell_type": "markdown",
      "source": [
        "##### 1. Why did you pick the specific chart?"
      ],
      "metadata": {
        "id": "UV0SzAkaZNRQ"
      }
    },
    {
      "cell_type": "markdown",
      "source": [
        "To analyze the impact of functioning vs. non-functioning days on bike rentals."
      ],
      "metadata": {
        "id": "DVPuT8LYZNRQ"
      }
    },
    {
      "cell_type": "markdown",
      "source": [
        "##### 2. What is/are the insight(s) found from the chart?"
      ],
      "metadata": {
        "id": "YPEH6qLeZNRQ"
      }
    },
    {
      "cell_type": "markdown",
      "source": [
        "* Average bike rentals on non-functioning days are consistent across the week, with slight variations.\n",
        "* Rentals are relatively lower on day 6 (Saturday) compared to other days, indicating reduced demand during weekends, even on non-functioning days.\n",
        "\n",
        "**Justification**\n",
        "* The consistently lower rentals on day 6 suggest a potential missed opportunity for increasing weekend demand through marketing campaigns or promotions targeted at weekend riders."
      ],
      "metadata": {
        "id": "bfSqtnDqZNRR"
      }
    },
    {
      "cell_type": "markdown",
      "source": [
        "#### Chart - 14"
      ],
      "metadata": {
        "id": "q29F0dvdveiT"
      }
    },
    {
      "cell_type": "code",
      "source": [
        "# Scatter plot for wind speed vs rentals\n",
        "plt.figure(figsize=(10, 6))\n",
        "sns.scatterplot(data=df, x='Wind speed (m/s)', y='Rented Bike Count', hue='Seasons', alpha=0.6)\n",
        "plt.title('Wind Speed vs Bike Rentals (Season-wise)')\n",
        "plt.xlabel('Wind Speed (m/s)')\n",
        "plt.ylabel('Rented Bikes')\n",
        "plt.legend(title='Season')\n",
        "plt.show()\n"
      ],
      "metadata": {
        "id": "o58-TEIhveiU"
      },
      "execution_count": null,
      "outputs": []
    },
    {
      "cell_type": "markdown",
      "source": [
        "##### 1. Why did you pick the specific chart?"
      ],
      "metadata": {
        "id": "EXh0U9oCveiU"
      }
    },
    {
      "cell_type": "markdown",
      "source": [
        "To explore how wind speed impacts rentals across different seasons."
      ],
      "metadata": {
        "id": "eMmPjTByveiU"
      }
    },
    {
      "cell_type": "markdown",
      "source": [
        "##### 2. What is/are the insight(s) found from the chart?"
      ],
      "metadata": {
        "id": "22aHeOlLveiV"
      }
    },
    {
      "cell_type": "markdown",
      "source": [
        "**Insights:**\n",
        "* Rentals tend to decrease as wind speed increases, indicating sensitivity to wind conditions.\n",
        "* Summer and Autumn see consistently higher rentals even with moderate wind speeds.\n",
        "* Winter rentals remain low regardless of wind conditions, further highlighting its low-demand nature.\n",
        "\n",
        "**Positive Impact:**\n",
        "* Focus fleet optimization on lower wind days and leverage favorable weather during peak seasons.\n",
        "\n",
        "**Negative Impact:**\n",
        "* Windy days may lead to operational inefficiencies, requiring flexibility in workforce deployment and service planning."
      ],
      "metadata": {
        "id": "uPQ8RGwHveiV"
      }
    },
    {
      "cell_type": "markdown",
      "source": [
        "## ***5. Hypothesis Testing***"
      ],
      "metadata": {
        "id": "g-ATYxFrGrvw"
      }
    },
    {
      "cell_type": "markdown",
      "source": [
        "### Based on your chart experiments, define three hypothetical statements from the dataset. In the next three questions, perform hypothesis testing to obtain final conclusion about the statements through your code and statistical testing."
      ],
      "metadata": {
        "id": "Yfr_Vlr8HBkt"
      }
    },
    {
      "cell_type": "markdown",
      "source": [
        "1. **Hypothesis 1 (Day and Rental Patterns):**\n",
        "\n",
        "* Null Hypothesis (H0): The average number of bike rentals does not differ significantly between weekdays and weekends.\n",
        "* Alternative Hypothesis (Ha): The average number of bike rentals differs significantly between weekdays and weekends.\n",
        "\n",
        "2. **Hypothesis 2 (Temperature Impact):**\n",
        "\n",
        "* Null Hypothesis (H0): The temperature does not significantly affect the number of bike rentals.\n",
        "* Alternative Hypothesis (Ha): The temperature significantly affects the number of bike rentals.\n",
        "3. **Hypothesis 3 (Holiday Effect):**\n",
        "\n",
        "* Null Hypothesis (H0): There is no significant difference in the average number of bike rentals between holidays and non-holidays.\n",
        "\n",
        "* Alternative Hypothesis (Ha): There is a significant difference in the average number of bike rentals between holidays and non-holidays."
      ],
      "metadata": {
        "id": "-7MS06SUHkB-"
      }
    },
    {
      "cell_type": "markdown",
      "source": [
        "### Hypothetical Statement - 1"
      ],
      "metadata": {
        "id": "8yEUt7NnHlrM"
      }
    },
    {
      "cell_type": "markdown",
      "source": [
        "#### 1. State Your research hypothesis as a null hypothesis and alternate hypothesis."
      ],
      "metadata": {
        "id": "tEA2Xm5dHt1r"
      }
    },
    {
      "cell_type": "markdown",
      "source": [
        "1. Null Hypothesis (H0): The average number of bike rentals does not differ significantly between weekdays and weekends.\n",
        "2. Alternative Hypothesis (Ha): The average number of bike rentals differs significantly between weekdays and weekends."
      ],
      "metadata": {
        "id": "HI9ZP0laH0D-"
      }
    },
    {
      "cell_type": "markdown",
      "source": [
        "#### 2. Perform an appropriate statistical test."
      ],
      "metadata": {
        "id": "I79__PHVH19G"
      }
    },
    {
      "cell_type": "code",
      "source": [
        "df.columns\n"
      ],
      "metadata": {
        "id": "Elf6WsSGn_3K"
      },
      "execution_count": null,
      "outputs": []
    },
    {
      "cell_type": "code",
      "source": [
        "# Perform Statistical Test to obtain P-Value\n",
        "import pandas as pd\n",
        "from scipy.stats import ttest_ind\n",
        "\n",
        "# Assuming 'df' is the DataFrame containing the data\n",
        "\n",
        "# Define weekdays (0-4) and weekends (5-6)\n",
        "df['DayType'] = df['DayOfWeek'].apply(lambda x: 'Weekday' if x < 5 else 'Weekend')\n",
        "\n",
        "# Separate the data\n",
        "weekdays = df[df['DayType'] == 'Weekday']['Rented Bike Count']\n",
        "weekends = df[df['DayType'] == 'Weekend']['Rented Bike Count']\n",
        "\n",
        "# Perform a two-sample t-test\n",
        "t_stat, p_value = ttest_ind(weekdays, weekends, equal_var=False)  # Assuming unequal variances\n",
        "\n",
        "# Output the results\n",
        "print(f\"T-statistic: {t_stat}\")\n",
        "print(f\"P-value: {p_value}\")\n",
        "\n",
        "# Interpretation\n",
        "if p_value < 0.05:\n",
        "    print(\"Reject the null hypothesis: There is a significant difference in bike rentals between weekdays and weekends.\")\n",
        "else:\n",
        "    print(\"Fail to reject the null hypothesis: No significant difference in bike rentals between weekdays and weekends.\")\n"
      ],
      "metadata": {
        "id": "oZrfquKtyian"
      },
      "execution_count": null,
      "outputs": []
    },
    {
      "cell_type": "markdown",
      "source": [
        "##### Which statistical test have you done to obtain P-Value?"
      ],
      "metadata": {
        "id": "Ou-I18pAyIpj"
      }
    },
    {
      "cell_type": "markdown",
      "source": [
        "We performed an Independent Two-Sample t-test to obtain the P-value."
      ],
      "metadata": {
        "id": "s2U0kk00ygSB"
      }
    },
    {
      "cell_type": "markdown",
      "source": [
        "##### Why did you choose the specific statistical test?"
      ],
      "metadata": {
        "id": "fF3858GYyt-u"
      }
    },
    {
      "cell_type": "markdown",
      "source": [
        "1. **Nature of the Data:**\n",
        "* The test compares the means of two independent groups: weekdays and weekends.\n",
        "* The target variable, bike rentals, is numeric and continuous.\n",
        "2. **Assumptions of the t-test:**\n",
        "* Independent Groups: Weekdays and weekends are mutually exclusive.\n",
        "* Normally Distributed Data: The distribution of bike rentals within each group is assumed to be approximately normal (checked or robust under large samples by the Central Limit Theorem).\n",
        "* Equal Variance: While optional, a t-test can handle unequal variances by using the Welch's correction.\n",
        "3. **Suitability:**\n",
        "* The t-test is appropriate for determining if there is a statistically significant difference in the means of two independent groups when the data is continuous and approximately normal."
      ],
      "metadata": {
        "id": "HO4K0gP5y3B4"
      }
    },
    {
      "cell_type": "markdown",
      "source": [
        "**Statistical Test Results:**\n",
        "T-statistic: 3.5417\n",
        "P-value: 0.0004\n",
        "**Conclusion:**\n",
        "Since the P-value (0.0004) is less than the significance level (𝛼=0.05):\n",
        "\n",
        "* Reject the null hypothesis (𝐻0).\n",
        "* Accept the alternative hypothesis (𝐻𝑎): There is a significant difference in the average number of bike rentals between weekdays and weekends.\n",
        "\n",
        "**Implications:**\n",
        "* The difference in bike rentals suggests that user behavior and bike rental demand vary based on the day type. This could be due to factors like commuting patterns on weekdays versus leisure activities on weekends.\n",
        "\n",
        "**Business Impact:**\n",
        "1. Operational Strategy:\n",
        "* Adjust bike availability and maintenance schedules based on higher demand on specific day types (e.g., ensuring more bikes are available on weekends if demand is higher).\n",
        "2. Marketing Campaigns:\n",
        "* Tailor promotions for weekdays (e.g., \"Bike to Work\" discounts) or weekends (e.g., \"Leisure Ride Discounts\")."
      ],
      "metadata": {
        "id": "nfEVyKGvoxEf"
      }
    },
    {
      "cell_type": "markdown",
      "source": [
        "### Hypothetical Statement - 2"
      ],
      "metadata": {
        "id": "4_0_7-oCpUZd"
      }
    },
    {
      "cell_type": "markdown",
      "source": [
        "#### 1. State Your research hypothesis as a null hypothesis and alternate hypothesis."
      ],
      "metadata": {
        "id": "hwyV_J3ipUZe"
      }
    },
    {
      "cell_type": "markdown",
      "source": [
        "1. Null Hypothesis (𝐻0): There is no significant correlation between temperature and the number of bike rentals. (𝜌=0)\n",
        "2. Alternate Hypothesis (𝐻𝐴): There is a significant correlation between temperature and the number of bike rentals. (𝜌≠0)"
      ],
      "metadata": {
        "id": "FnpLGJ-4pUZe"
      }
    },
    {
      "cell_type": "markdown",
      "source": [
        "#### 2. Perform an appropriate statistical test."
      ],
      "metadata": {
        "id": "3yB-zSqbpUZe"
      }
    },
    {
      "cell_type": "code",
      "source": [
        "# Perform Statistical Test to obtain P-Value\n",
        "from scipy.stats import pearsonr\n",
        "\n",
        "# Perform Pearson correlation test\n",
        "correlation, p_value = pearsonr(df['Temperature(°C)'], df['Rented Bike Count'])\n",
        "\n",
        "print(f\"Correlation coefficient: {correlation}\")\n",
        "print(f\"P-value: {p_value}\")\n",
        "\n",
        "# Conclusion\n",
        "if p_value < 0.05:\n",
        "    print(\"Reject the null hypothesis: There is a significant correlation between temperature and bike rentals.\")\n",
        "else:\n",
        "    print(\"Fail to reject the null hypothesis: There is no significant correlation between temperature and bike rentals.\")\n"
      ],
      "metadata": {
        "id": "sWxdNTXNpUZe"
      },
      "execution_count": null,
      "outputs": []
    },
    {
      "cell_type": "markdown",
      "source": [
        "##### Which statistical test have you done to obtain P-Value?"
      ],
      "metadata": {
        "id": "dEUvejAfpUZe"
      }
    },
    {
      "cell_type": "markdown",
      "source": [
        "The appropriate test here is a **Pearson Correlation Test**, as it assesses the linear relationship between two continuous variables: **Temperature(°C) and Rented Bike Count.**"
      ],
      "metadata": {
        "id": "oLDrPz7HpUZf"
      }
    },
    {
      "cell_type": "markdown",
      "source": [
        "##### Why did you choose the specific statistical test?"
      ],
      "metadata": {
        "id": "Fd15vwWVpUZf"
      }
    },
    {
      "cell_type": "markdown",
      "source": [
        "* Nature of the data: Both variables (temperature and bike rentals) are continuous.\n",
        "* Objective: To evaluate the strength and direction of the linear relationship.\n",
        "* Pearson correlation is a standard test for analyzing correlations when variables are continuous and linearly related.\n"
      ],
      "metadata": {
        "id": "4xOGYyiBpUZf"
      }
    },
    {
      "cell_type": "markdown",
      "source": [
        "**Interpretation of the Results:**\n",
        "\n",
        "* **Correlation coefficient (𝑟): 0.538**\n",
        "This indicates a moderate positive correlation between temperature and bike rentals, suggesting that as temperature increases, bike rentals also tend to increase.\n",
        "* **P-value: 0.0**\n",
        "A p-value of 0.0 (extremely small, essentially less than 0.05) indicates strong evidence to reject the null hypothesis.\n",
        "\n",
        "**Conclusion:**\n",
        "\n",
        "* The null hypothesis (𝐻0) that \"there is no significant correlation between temperature and bike rentals\" is rejected.\n",
        "* There is a significant positive correlation between temperature and the number of bike rentals."
      ],
      "metadata": {
        "id": "b2y11gVq0L_t"
      }
    },
    {
      "cell_type": "markdown",
      "source": [
        "### Hypothetical Statement - 3"
      ],
      "metadata": {
        "id": "bn_IUdTipZyH"
      }
    },
    {
      "cell_type": "markdown",
      "source": [
        "#### 1. State Your research hypothesis as a null hypothesis and alternate hypothesis."
      ],
      "metadata": {
        "id": "49K5P_iCpZyH"
      }
    },
    {
      "cell_type": "markdown",
      "source": [
        "1. **Null Hypothesis (𝐻0**): There is no significant difference in the average number of bike rentals on holidays versus non-holidays.\n",
        "2. **Alternate Hypothesis (𝐻𝐴)**: There is a significant difference in the average number of bike rentals on holidays versus non-holidays.\n"
      ],
      "metadata": {
        "id": "7gWI5rT9pZyH"
      }
    },
    {
      "cell_type": "markdown",
      "source": [
        "#### 2. Perform an appropriate statistical test."
      ],
      "metadata": {
        "id": "Nff-vKELpZyI"
      }
    },
    {
      "cell_type": "code",
      "source": [
        "# Perform Statistical Test to obtain P-Value\n",
        "from scipy.stats import ttest_ind\n",
        "\n",
        "# Group bike rentals by holidays\n",
        "holiday_rentals = df[df['Holiday'] == 'Holiday']['Rented Bike Count']\n",
        "non_holiday_rentals = df[df['Holiday'] == 'No Holiday']['Rented Bike Count']\n",
        "\n",
        "# Perform t-test\n",
        "t_statistic, p_value = ttest_ind(holiday_rentals, non_holiday_rentals, equal_var=False)\n",
        "\n",
        "print(f\"T-statistic: {t_statistic}\")\n",
        "print(f\"P-value: {p_value}\")\n",
        "\n",
        "# Conclusion\n",
        "if p_value < 0.05:\n",
        "    print(\"Reject the null hypothesis: There is a significant difference in bike rentals between holidays and non-holidays.\")\n",
        "else:\n",
        "    print(\"Fail to reject the null hypothesis: There is no significant difference in bike rentals between holidays and non-holidays.\")\n"
      ],
      "metadata": {
        "id": "s6AnJQjtpZyI"
      },
      "execution_count": null,
      "outputs": []
    },
    {
      "cell_type": "markdown",
      "source": [
        "##### Which statistical test have you done to obtain P-Value?"
      ],
      "metadata": {
        "id": "kLW572S8pZyI"
      }
    },
    {
      "cell_type": "markdown",
      "source": [
        "**Two-sample t-test (independent t-test)** was performed to compare the average number of bike rentals between holidays and non-holidays."
      ],
      "metadata": {
        "id": "ytWJ8v15pZyI"
      }
    },
    {
      "cell_type": "markdown",
      "source": [
        "##### Why did you choose the specific statistical test?"
      ],
      "metadata": {
        "id": "dWbDXHzopZyI"
      }
    },
    {
      "cell_type": "markdown",
      "source": [
        "* Nature of the data: The data involves comparing two independent groups (holidays and non-holidays).\n",
        "* Objective: To determine whether the means of bike rentals differ significantly between these two groups.\n",
        "* Assumptions met: The t-test is appropriate when the dependent variable (bike rentals) is continuous, and the samples are independent.\n",
        "\n",
        "**Interpretation of the Results:**\n",
        "\n",
        "* T-statistic: −7.641\n",
        "This large negative value indicates a substantial difference in the means of bike rentals between holidays and non-holidays, with non-holidays likely having a higher mean.\n",
        "* P-value: 1.137×10^−13\n",
        " This extremely small p-value (much less than the threshold of 0.05) provides strong evidence to reject the null hypothesis.\n",
        "\n",
        "**Conclusion:**\n",
        "\n",
        "* The null hypothesis (𝐻0) that \"there is no significant difference in bike rentals between holidays and non-holidays\" is rejected.\n",
        "* There is a significant difference in bike rentals between holidays and non-holidays, with non-holidays likely seeing more bike rentals based on the negative direction of the t-statistic."
      ],
      "metadata": {
        "id": "M99G98V6pZyI"
      }
    },
    {
      "cell_type": "markdown",
      "source": [
        "## ***6. Feature Engineering & Data Pre-processing***"
      ],
      "metadata": {
        "id": "yLjJCtPM0KBk"
      }
    },
    {
      "cell_type": "markdown",
      "source": [
        "### 1. Handling Missing Values"
      ],
      "metadata": {
        "id": "xiyOF9F70UgQ"
      }
    },
    {
      "cell_type": "code",
      "source": [
        "# Handling Missing Values & Missing Value Imputation\n",
        "# Check for missing values\n",
        "missing_summary = df.isnull().sum()\n",
        "print(\"Missing Values:\\n\", missing_summary)\n",
        "\n",
        "# Fill missing categorical values with mode\n",
        "for col in df.select_dtypes(include=['object', 'category']):\n",
        "    df[col].fillna(df[col].mode()[0], inplace=True)\n",
        "\n",
        "\n"
      ],
      "metadata": {
        "id": "iRsAHk1K0fpS",
        "collapsed": true
      },
      "execution_count": null,
      "outputs": []
    },
    {
      "cell_type": "markdown",
      "source": [
        "#### What all missing value imputation techniques have you used and why did you use those techniques?"
      ],
      "metadata": {
        "id": "7wuGOrhz0itI"
      }
    },
    {
      "cell_type": "markdown",
      "source": [
        "In this dataset, no missing values were present in any of the columns. As a result, missing value imputation techniques were not required"
      ],
      "metadata": {
        "id": "1ixusLtI0pqI"
      }
    },
    {
      "cell_type": "markdown",
      "source": [
        "### 2. Handling Outliers"
      ],
      "metadata": {
        "id": "id1riN9m0vUs"
      }
    },
    {
      "cell_type": "code",
      "source": [
        "# Handling Outliers & Outlier treatments\n",
        "# Function to cap outliers using IQR\n",
        "def cap_outliers(col):\n",
        "    Q1 = col.quantile(0.25)\n",
        "    Q3 = col.quantile(0.75)\n",
        "    IQR = Q3 - Q1\n",
        "    lower_bound = Q1 - 1.5 * IQR\n",
        "    upper_bound = Q3 + 1.5 * IQR\n",
        "    return col.clip(lower=lower_bound, upper=upper_bound)\n",
        "\n",
        "# Apply to relevant columns\n",
        "numerical_cols = ['Temperature(°C)', 'Humidity(%)', 'Wind speed (m/s)',\n",
        "                  'Visibility (10m)', 'Solar Radiation (MJ/m2)',\n",
        "                  'Rainfall(mm)', 'Snowfall (cm)']\n",
        "for col in numerical_cols:\n",
        "    df[col] = cap_outliers(df[col])\n"
      ],
      "metadata": {
        "id": "M6w2CzZf04JK"
      },
      "execution_count": null,
      "outputs": []
    },
    {
      "cell_type": "markdown",
      "source": [
        "##### What all outlier treatment techniques have you used and why did you use those techniques?"
      ],
      "metadata": {
        "id": "578E2V7j08f6"
      }
    },
    {
      "cell_type": "markdown",
      "source": [
        "* Outliers in numerical columns like Temperature(°C), Humidity(%), Wind speed (m/s) can skew results. We'll cap them using the IQR method.\n",
        "* Capping Outliers: Keeps extreme values within acceptable ranges without losing data."
      ],
      "metadata": {
        "id": "uGZz5OrT1HH-"
      }
    },
    {
      "cell_type": "markdown",
      "source": [
        "### 3. Categorical Encoding"
      ],
      "metadata": {
        "id": "89xtkJwZ18nB"
      }
    },
    {
      "cell_type": "code",
      "source": [
        "# Encode your categorical columns\n",
        "# One-hot encode categorical columns\n",
        "df = pd.get_dummies(df, columns=['Seasons', 'Holiday', 'Functioning Day'], drop_first=True)\n"
      ],
      "metadata": {
        "id": "21JmIYMG2hEo"
      },
      "execution_count": null,
      "outputs": []
    },
    {
      "cell_type": "markdown",
      "source": [
        "#### What all categorical encoding techniques have you used & why did you use those techniques?"
      ],
      "metadata": {
        "id": "67NQN5KX2AMe"
      }
    },
    {
      "cell_type": "markdown",
      "source": [
        "* Categorical columns like Seasons, Holiday, and Functioning Day need to be encoded for machine learning models.\n",
        "* One-Hot Encoding: Converts categories into binary columns, preserving information while avoiding ordinal assumptions."
      ],
      "metadata": {
        "id": "UDaue5h32n_G"
      }
    },
    {
      "cell_type": "markdown",
      "source": [
        "### 4. Feature Manipulation & Selection"
      ],
      "metadata": {
        "id": "-oLEiFgy-5Pf"
      }
    },
    {
      "cell_type": "markdown",
      "source": [
        "#### 1. Feature Manipulation"
      ],
      "metadata": {
        "id": "C74aWNz2AliB"
      }
    },
    {
      "cell_type": "code",
      "source": [
        "# Manipulate Features to minimize feature correlation and create new features\n",
        "# Interaction between temperature and humidity\n",
        "df['Temp_Humidity_Interaction'] = df['Temperature(°C)'] * df['Humidity(%)']\n",
        "\n",
        "# Interaction between visibility and wind speed\n",
        "df['Visibility_Wind_Interaction'] = df['Visibility (10m)'] * df['Wind speed (m/s)']\n",
        "\n"
      ],
      "metadata": {
        "id": "h1qC4yhBApWC"
      },
      "execution_count": null,
      "outputs": []
    },
    {
      "cell_type": "code",
      "source": [
        "# Lag features to capture hourly dependencies\n",
        "df['Lag_1'] = df['Rented Bike Count'].shift(1)  # Previous hour\n",
        "df['Lag_24'] = df['Rented Bike Count'].shift(24)  # Same hour, previous day\n",
        "\n",
        "# Rolling statistics for short-term trend analysis\n",
        "df['Rolling_Mean_3'] = df['Rented Bike Count'].rolling(window=3).mean()\n",
        "df['Rolling_Std_3'] = df['Rented Bike Count'].rolling(window=3).std()\n"
      ],
      "metadata": {
        "id": "wkYWRSrg_brX"
      },
      "execution_count": null,
      "outputs": []
    },
    {
      "cell_type": "markdown",
      "source": [
        "##### What all feature selection methods have you used  and why?"
      ],
      "metadata": {
        "id": "pEMng2IbBLp7"
      }
    },
    {
      "cell_type": "markdown",
      "source": [
        "Interaction terms help capture non-linear relationships between variables that may influence bike demand (e.g., how high temperature and humidity together affect rentals)."
      ],
      "metadata": {
        "id": "rb2Lh6Z8BgGs"
      }
    },
    {
      "cell_type": "markdown",
      "source": [
        "### 5. Data Transformation"
      ],
      "metadata": {
        "id": "TNVZ9zx19K6k"
      }
    },
    {
      "cell_type": "markdown",
      "source": [
        "#### Do you think that your data needs to be transformed? If yes, which transformation have you used. Explain Why?"
      ],
      "metadata": {
        "id": "nqoHp30x9hH9"
      }
    },
    {
      "cell_type": "code",
      "source": [
        "# Transform Your data\n",
        "df['Rented Bike Count'] = np.log1p(df['Rented Bike Count'])  # log(1+x) transformation\n"
      ],
      "metadata": {
        "id": "I6quWQ1T9rtH"
      },
      "execution_count": null,
      "outputs": []
    },
    {
      "cell_type": "markdown",
      "source": [
        "* Transform Rented Bike Count to a log scale to stabilize variance and normalize the distribution.\n",
        "* Log transformation stabilizes the variance, addresses skewness, and normalizes the target variable, which is crucial for models like regression."
      ],
      "metadata": {
        "id": "2gW45epGALmc"
      }
    },
    {
      "cell_type": "markdown",
      "source": [
        "### 6. Data Scaling"
      ],
      "metadata": {
        "id": "rMDnDkt2B6du"
      }
    },
    {
      "cell_type": "code",
      "source": [
        "# Scaling your data\n",
        "from sklearn.preprocessing import StandardScaler\n",
        "\n",
        "# Apply StandardScaler to numerical columns\n",
        "numerical_cols = ['Temperature(°C)', 'Humidity(%)', 'Wind speed (m/s)',\n",
        "                  'Visibility (10m)', 'Solar Radiation (MJ/m2)',\n",
        "                  'Rainfall(mm)', 'Snowfall (cm)', 'Lag_1', 'Lag_24']\n",
        "scaler = StandardScaler()\n",
        "df[numerical_cols] = scaler.fit_transform(df[numerical_cols])\n"
      ],
      "metadata": {
        "id": "dL9LWpySC6x_"
      },
      "execution_count": null,
      "outputs": []
    },
    {
      "cell_type": "markdown",
      "source": [
        "##### Which method have you used to scale you data and why?"
      ],
      "metadata": {
        "id": "yiiVWRdJDDil"
      }
    },
    {
      "cell_type": "markdown",
      "source": [
        "* Scale numerical features to a standard normal distribution.\n",
        "* StandardScaler ensures all features have a mean of 0 and variance of 1, essential for models like SVMs or neural networks."
      ],
      "metadata": {
        "id": "POe8VqL2AUUs"
      }
    },
    {
      "cell_type": "markdown",
      "source": [
        "### 8. Data Splitting"
      ],
      "metadata": {
        "id": "BhH2vgX9EjGr"
      }
    },
    {
      "cell_type": "code",
      "source": [
        "# Split your data to train and test. Choose Splitting ratio wisely.\n",
        "from sklearn.model_selection import train_test_split\n",
        "\n",
        "# Split into training and testing sets\n",
        "X = df.drop(columns=['Rented Bike Count'])\n",
        "y = df['Rented Bike Count']\n",
        "X_train, X_test, y_train, y_test = train_test_split(X, y, test_size=0.2, random_state=42)\n",
        "\n",
        "print(\"Training set size:\", X_train.shape)\n",
        "print(\"Testing set size:\", X_test.shape)\n"
      ],
      "metadata": {
        "id": "0CTyd2UwEyNM"
      },
      "execution_count": null,
      "outputs": []
    },
    {
      "cell_type": "markdown",
      "source": [
        "##### What data splitting ratio have you used and why?"
      ],
      "metadata": {
        "id": "qjKvONjwE8ra"
      }
    },
    {
      "cell_type": "markdown",
      "source": [
        "* Split the dataset into training and testing sets.\n",
        "* 80-20 Split: Ensures a significant portion of the data is used for training (80%) while leaving a portion for model evaluation (20%)."
      ],
      "metadata": {
        "id": "Y2lJ8cobFDb_"
      }
    },
    {
      "cell_type": "markdown",
      "source": [
        "### 9. Handling Imbalanced Dataset"
      ],
      "metadata": {
        "id": "P1XJ9OREExlT"
      }
    },
    {
      "cell_type": "markdown",
      "source": [
        "##### Do you think the dataset is imbalanced? Explain Why."
      ],
      "metadata": {
        "id": "VFOzZv6IFROw"
      }
    },
    {
      "cell_type": "markdown",
      "source": [
        " *Assess if the dataset is imbalanced, especially concerning the Rented Bike Count classes.\n",
        "\n"
      ],
      "metadata": {
        "id": "GeKDIv7pFgcC"
      }
    },
    {
      "cell_type": "code",
      "source": [
        "class_distribution = df['Rented Bike Count'].value_counts()\n",
        "print(\"Class Distribution:\\n\", class_distribution)\n"
      ],
      "metadata": {
        "collapsed": true,
        "id": "S2p-t1B-B9xM"
      },
      "execution_count": null,
      "outputs": []
    },
    {
      "cell_type": "code",
      "source": [
        "from sklearn.ensemble import GradientBoostingRegressor\n",
        "from sklearn.model_selection import train_test_split\n",
        "from sklearn.metrics import mean_squared_error\n",
        "\n",
        "# Prepare the data for PCA\n",
        "X = df.drop(columns=['Rented Bike Count'])\n",
        "\n",
        "# Split the data\n",
        "y = df['Rented Bike Count']\n",
        "X_train, X_test, y_train, y_test = train_test_split(X, y, test_size=0.2, random_state=42)\n",
        "\n",
        "# Ensure y_train is numeric and contains no categorical strings\n",
        "if y_train.dtype == object:  # If the target contains strings\n",
        "    y_train = pd.to_numeric(y_train, errors='coerce')  # Convert to float if it's an object type\n",
        "    y_train = y_train.dropna()  # Drop any rows with NaN after conversion to ensure all data is numeric\n",
        "\n",
        "# Train Gradient Boosting Regressor\n",
        "gb_regressor = GradientBoostingRegressor(n_estimators=100, random_state=42, loss='huber', max_depth=3)\n",
        "model = gb_regressor.fit(X_train, y_train)\n",
        "\n",
        "# Predict and evaluate model\n",
        "y_pred_train = model.predict(X_train)\n",
        "mse_train = mean_squared_error(y_train, y_pred_train)\n",
        "print(f\"Training MSE: {mse_train}\")\n",
        "\n",
        "y_pred_test = model.predict(X_test)\n",
        "mse_test = mean_squared_error(y_test, y_pred_test)\n",
        "print(f\"Testing MSE: {mse_test}\")\n"
      ],
      "metadata": {
        "id": "nQsRhhZLFiDs",
        "collapsed": true
      },
      "execution_count": null,
      "outputs": []
    },
    {
      "cell_type": "markdown",
      "source": [
        "##### What technique did you use to handle the imbalance dataset and why? (If needed to be balanced)"
      ],
      "metadata": {
        "id": "TIqpNgepFxVj"
      }
    },
    {
      "cell_type": "markdown",
      "source": [
        "**SMOTE** (Synthetic Minority Over-sampling Technique) addresses imbalance by creating synthetic samples of the minority class, improving model generalization."
      ],
      "metadata": {
        "id": "qbet1HwdGDTz"
      }
    },
    {
      "cell_type": "markdown",
      "source": [
        "## ***7. ML Model Implementation***"
      ],
      "metadata": {
        "id": "VfCC591jGiD4"
      }
    },
    {
      "cell_type": "markdown",
      "source": [
        "### ML Model - 1"
      ],
      "metadata": {
        "id": "OB4l2ZhMeS1U"
      }
    },
    {
      "cell_type": "code",
      "source": [
        "# ML Model - 1 Implementation\n",
        "\n",
        "# Fit the Algorithm\n",
        "\n",
        "# Predict on the model"
      ],
      "metadata": {
        "id": "7ebyywQieS1U"
      },
      "execution_count": null,
      "outputs": []
    },
    {
      "cell_type": "markdown",
      "source": [
        "#### 1. Explain the ML Model used and it's performance using Evaluation metric Score Chart."
      ],
      "metadata": {
        "id": "ArJBuiUVfxKd"
      }
    },
    {
      "cell_type": "code",
      "source": [
        "# Visualizing evaluation Metric Score chart"
      ],
      "metadata": {
        "id": "rqD5ZohzfxKe"
      },
      "execution_count": null,
      "outputs": []
    },
    {
      "cell_type": "markdown",
      "source": [
        "#### 2. Cross- Validation & Hyperparameter Tuning"
      ],
      "metadata": {
        "id": "4qY1EAkEfxKe"
      }
    },
    {
      "cell_type": "code",
      "source": [
        "# ML Model - 1 Implementation with hyperparameter optimization techniques (i.e., GridSearch CV, RandomSearch CV, Bayesian Optimization etc.)\n",
        "\n",
        "# Fit the Algorithm\n",
        "\n",
        "# Predict on the model"
      ],
      "metadata": {
        "id": "Dy61ujd6fxKe"
      },
      "execution_count": null,
      "outputs": []
    },
    {
      "cell_type": "markdown",
      "source": [
        "##### Which hyperparameter optimization technique have you used and why?"
      ],
      "metadata": {
        "id": "PiV4Ypx8fxKe"
      }
    },
    {
      "cell_type": "markdown",
      "source": [
        "Answer Here."
      ],
      "metadata": {
        "id": "negyGRa7fxKf"
      }
    },
    {
      "cell_type": "markdown",
      "source": [
        "##### Have you seen any improvement? Note down the improvement with updates Evaluation metric Score Chart."
      ],
      "metadata": {
        "id": "TfvqoZmBfxKf"
      }
    },
    {
      "cell_type": "markdown",
      "source": [
        "Answer Here."
      ],
      "metadata": {
        "id": "OaLui8CcfxKf"
      }
    },
    {
      "cell_type": "markdown",
      "source": [
        "### ML Model - 2"
      ],
      "metadata": {
        "id": "dJ2tPlVmpsJ0"
      }
    },
    {
      "cell_type": "markdown",
      "source": [
        "#### 1. Explain the ML Model used and it's performance using Evaluation metric Score Chart."
      ],
      "metadata": {
        "id": "JWYfwnehpsJ1"
      }
    },
    {
      "cell_type": "code",
      "source": [
        "# Visualizing evaluation Metric Score chart"
      ],
      "metadata": {
        "id": "yEl-hgQWpsJ1"
      },
      "execution_count": null,
      "outputs": []
    },
    {
      "cell_type": "markdown",
      "source": [
        "#### 2. Cross- Validation & Hyperparameter Tuning"
      ],
      "metadata": {
        "id": "-jK_YjpMpsJ2"
      }
    },
    {
      "cell_type": "code",
      "source": [
        "# ML Model - 1 Implementation with hyperparameter optimization techniques (i.e., GridSearch CV, RandomSearch CV, Bayesian Optimization etc.)\n",
        "\n",
        "# Fit the Algorithm\n",
        "\n",
        "# Predict on the model"
      ],
      "metadata": {
        "id": "Dn0EOfS6psJ2"
      },
      "execution_count": null,
      "outputs": []
    },
    {
      "cell_type": "markdown",
      "source": [
        "##### Which hyperparameter optimization technique have you used and why?"
      ],
      "metadata": {
        "id": "HAih1iBOpsJ2"
      }
    },
    {
      "cell_type": "markdown",
      "source": [
        "Answer Here."
      ],
      "metadata": {
        "id": "9kBgjYcdpsJ2"
      }
    },
    {
      "cell_type": "markdown",
      "source": [
        "##### Have you seen any improvement? Note down the improvement with updates Evaluation metric Score Chart."
      ],
      "metadata": {
        "id": "zVGeBEFhpsJ2"
      }
    },
    {
      "cell_type": "markdown",
      "source": [
        "Answer Here."
      ],
      "metadata": {
        "id": "74yRdG6UpsJ3"
      }
    },
    {
      "cell_type": "markdown",
      "source": [
        "#### 3. Explain each evaluation metric's indication towards business and the business impact pf the ML model used."
      ],
      "metadata": {
        "id": "bmKjuQ-FpsJ3"
      }
    },
    {
      "cell_type": "markdown",
      "source": [
        "Answer Here."
      ],
      "metadata": {
        "id": "BDKtOrBQpsJ3"
      }
    },
    {
      "cell_type": "markdown",
      "source": [
        "### ML Model - 3"
      ],
      "metadata": {
        "id": "Fze-IPXLpx6K"
      }
    },
    {
      "cell_type": "code",
      "source": [
        "# ML Model - 3 Implementation\n",
        "\n",
        "# Fit the Algorithm\n",
        "\n",
        "# Predict on the model"
      ],
      "metadata": {
        "id": "FFrSXAtrpx6M"
      },
      "execution_count": null,
      "outputs": []
    },
    {
      "cell_type": "markdown",
      "source": [
        "#### 1. Explain the ML Model used and it's performance using Evaluation metric Score Chart."
      ],
      "metadata": {
        "id": "7AN1z2sKpx6M"
      }
    },
    {
      "cell_type": "code",
      "source": [
        "# Visualizing evaluation Metric Score chart"
      ],
      "metadata": {
        "id": "xIY4lxxGpx6M"
      },
      "execution_count": null,
      "outputs": []
    },
    {
      "cell_type": "markdown",
      "source": [
        "#### 2. Cross- Validation & Hyperparameter Tuning"
      ],
      "metadata": {
        "id": "9PIHJqyupx6M"
      }
    },
    {
      "cell_type": "code",
      "source": [
        "# ML Model - 3 Implementation with hyperparameter optimization techniques (i.e., GridSearch CV, RandomSearch CV, Bayesian Optimization etc.)\n",
        "\n",
        "# Fit the Algorithm\n",
        "\n",
        "# Predict on the model"
      ],
      "metadata": {
        "id": "eSVXuaSKpx6M"
      },
      "execution_count": null,
      "outputs": []
    },
    {
      "cell_type": "markdown",
      "source": [
        "##### Which hyperparameter optimization technique have you used and why?"
      ],
      "metadata": {
        "id": "_-qAgymDpx6N"
      }
    },
    {
      "cell_type": "markdown",
      "source": [
        "Answer Here."
      ],
      "metadata": {
        "id": "lQMffxkwpx6N"
      }
    },
    {
      "cell_type": "markdown",
      "source": [
        "##### Have you seen any improvement? Note down the improvement with updates Evaluation metric Score Chart."
      ],
      "metadata": {
        "id": "Z-hykwinpx6N"
      }
    },
    {
      "cell_type": "markdown",
      "source": [
        "Answer Here."
      ],
      "metadata": {
        "id": "MzVzZC6opx6N"
      }
    },
    {
      "cell_type": "markdown",
      "source": [
        "### 1. Which Evaluation metrics did you consider for a positive business impact and why?"
      ],
      "metadata": {
        "id": "h_CCil-SKHpo"
      }
    },
    {
      "cell_type": "markdown",
      "source": [
        "Answer Here."
      ],
      "metadata": {
        "id": "jHVz9hHDKFms"
      }
    },
    {
      "cell_type": "markdown",
      "source": [
        "### 2. Which ML model did you choose from the above created models as your final prediction model and why?"
      ],
      "metadata": {
        "id": "cBFFvTBNJzUa"
      }
    },
    {
      "cell_type": "markdown",
      "source": [
        "Answer Here."
      ],
      "metadata": {
        "id": "6ksF5Q1LKTVm"
      }
    },
    {
      "cell_type": "markdown",
      "source": [
        "### 3. Explain the model which you have used and the feature importance using any model explainability tool?"
      ],
      "metadata": {
        "id": "HvGl1hHyA_VK"
      }
    },
    {
      "cell_type": "markdown",
      "source": [
        "Answer Here."
      ],
      "metadata": {
        "id": "YnvVTiIxBL-C"
      }
    },
    {
      "cell_type": "markdown",
      "source": [
        "## ***8.*** ***Future Work (Optional)***"
      ],
      "metadata": {
        "id": "EyNgTHvd2WFk"
      }
    },
    {
      "cell_type": "markdown",
      "source": [
        "### 1. Save the best performing ml model in a pickle file or joblib file format for deployment process.\n"
      ],
      "metadata": {
        "id": "KH5McJBi2d8v"
      }
    },
    {
      "cell_type": "code",
      "source": [
        "# Save the File"
      ],
      "metadata": {
        "id": "bQIANRl32f4J"
      },
      "execution_count": null,
      "outputs": []
    },
    {
      "cell_type": "markdown",
      "source": [
        "### 2. Again Load the saved model file and try to predict unseen data for a sanity check.\n"
      ],
      "metadata": {
        "id": "iW_Lq9qf2h6X"
      }
    },
    {
      "cell_type": "code",
      "source": [
        "# Load the File and predict unseen data."
      ],
      "metadata": {
        "id": "oEXk9ydD2nVC"
      },
      "execution_count": null,
      "outputs": []
    },
    {
      "cell_type": "markdown",
      "source": [
        "### ***Congrats! Your model is successfully created and ready for deployment on a live server for a real user interaction !!!***"
      ],
      "metadata": {
        "id": "-Kee-DAl2viO"
      }
    },
    {
      "cell_type": "markdown",
      "source": [
        "# **Conclusion**"
      ],
      "metadata": {
        "id": "gCX9965dhzqZ"
      }
    },
    {
      "cell_type": "markdown",
      "source": [
        "Write the conclusion here."
      ],
      "metadata": {
        "id": "Fjb1IsQkh3yE"
      }
    },
    {
      "cell_type": "markdown",
      "source": [
        "### ***Hurrah! You have successfully completed your Machine Learning Capstone Project !!!***"
      ],
      "metadata": {
        "id": "gIfDvo9L0UH2"
      }
    }
  ]
}